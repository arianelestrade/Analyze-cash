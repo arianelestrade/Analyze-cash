{
 "cells": [
  {
   "cell_type": "markdown",
   "id": "monthly-interim",
   "metadata": {},
   "source": [
    "# Import et processing des données des différentes requêtes - partie 2 geoloc"
   ]
  },
  {
   "cell_type": "markdown",
   "id": "dated-dependence",
   "metadata": {},
   "source": [
    "Objectif : intégrer l'information de géolocalisation aux tweets requêtés et filtrer pour ne retenir uniquement les tweets de la bonne zone géographique. Actuellement le script ne traite que les tweets issus de la requête francophone cash et cb. "
   ]
  },
  {
   "cell_type": "code",
   "execution_count": 24,
   "id": "boxed-nashville",
   "metadata": {},
   "outputs": [],
   "source": [
    "from functools import reduce\n",
    "import random\n",
    "import re\n",
    "import time\n",
    "from gensim.utils import deaccent\n",
    "import numpy as np\n",
    "import pandas as pd\n",
    "import tqdm\n",
    "import matplotlib.pyplot as plt\n",
    "pd.options.display.max_colwidth = None\n",
    "pd.options.display.max_columns = 30\n",
    "#from wordcloud import WordCloud\n",
    "import wordcloud\n",
    "from nltk.corpus import stopwords\n",
    "import seaborn as sns\n",
    "import os\n",
    "\n",
    "from utils import clean_users_with_geoloc"
   ]
  },
  {
   "cell_type": "code",
   "execution_count": 12,
   "id": "square-cleaners",
   "metadata": {},
   "outputs": [],
   "source": [
    "users = pd.read_csv(f\"/home/cash/scripts/geolocation/users_profiles_with_geoloc.csv\")"
   ]
  },
  {
   "cell_type": "markdown",
   "id": "vital-chick",
   "metadata": {},
   "source": [
    "## Data processing et comparaison de volume lors de cette étape"
   ]
  },
  {
   "cell_type": "code",
   "execution_count": 13,
   "id": "coated-afghanistan",
   "metadata": {},
   "outputs": [],
   "source": [
    "users = clean_users_with_geoloc(users)"
   ]
  },
  {
   "cell_type": "code",
   "execution_count": 11,
   "id": "solar-marina",
   "metadata": {
    "collapsed": true,
    "jupyter": {
     "outputs_hidden": true
    }
   },
   "outputs": [
    {
     "data": {
      "text/html": [
       "<div>\n",
       "<style scoped>\n",
       "    .dataframe tbody tr th:only-of-type {\n",
       "        vertical-align: middle;\n",
       "    }\n",
       "\n",
       "    .dataframe tbody tr th {\n",
       "        vertical-align: top;\n",
       "    }\n",
       "\n",
       "    .dataframe thead th {\n",
       "        text-align: right;\n",
       "    }\n",
       "</style>\n",
       "<table border=\"1\" class=\"dataframe\">\n",
       "  <thead>\n",
       "    <tr style=\"text-align: right;\">\n",
       "      <th></th>\n",
       "      <th>user_id</th>\n",
       "      <th>location_profile</th>\n",
       "      <th>country_profile</th>\n",
       "      <th>osm_value_profile</th>\n",
       "      <th>name_profile</th>\n",
       "      <th>county_profile</th>\n",
       "      <th>state_profile</th>\n",
       "      <th>type_profile</th>\n",
       "    </tr>\n",
       "  </thead>\n",
       "  <tbody>\n",
       "    <tr>\n",
       "      <th>0</th>\n",
       "      <td>1164377040</td>\n",
       "      <td>NaN</td>\n",
       "      <td>NaN</td>\n",
       "      <td>NaN</td>\n",
       "      <td>NaN</td>\n",
       "      <td>NaN</td>\n",
       "      <td>NaN</td>\n",
       "      <td>NaN</td>\n",
       "    </tr>\n",
       "    <tr>\n",
       "      <th>1</th>\n",
       "      <td>208433335</td>\n",
       "      <td>nantes  france</td>\n",
       "      <td>France</td>\n",
       "      <td>city</td>\n",
       "      <td>Nantes</td>\n",
       "      <td>Loire-Atlantique</td>\n",
       "      <td>Pays de la Loire</td>\n",
       "      <td>city</td>\n",
       "    </tr>\n",
       "    <tr>\n",
       "      <th>2</th>\n",
       "      <td>70210292</td>\n",
       "      <td>nevers</td>\n",
       "      <td>France</td>\n",
       "      <td>town</td>\n",
       "      <td>Nevers</td>\n",
       "      <td>Nièvre</td>\n",
       "      <td>Bourgogne-Franche-Comté</td>\n",
       "      <td>city</td>\n",
       "    </tr>\n",
       "    <tr>\n",
       "      <th>3</th>\n",
       "      <td>3001695178</td>\n",
       "      <td>NaN</td>\n",
       "      <td>NaN</td>\n",
       "      <td>NaN</td>\n",
       "      <td>NaN</td>\n",
       "      <td>NaN</td>\n",
       "      <td>NaN</td>\n",
       "      <td>NaN</td>\n",
       "    </tr>\n",
       "    <tr>\n",
       "      <th>4</th>\n",
       "      <td>912871723</td>\n",
       "      <td>kelowna  colombie britanique</td>\n",
       "      <td>NaN</td>\n",
       "      <td>NaN</td>\n",
       "      <td>NaN</td>\n",
       "      <td>NaN</td>\n",
       "      <td>NaN</td>\n",
       "      <td>NaN</td>\n",
       "    </tr>\n",
       "    <tr>\n",
       "      <th>...</th>\n",
       "      <td>...</td>\n",
       "      <td>...</td>\n",
       "      <td>...</td>\n",
       "      <td>...</td>\n",
       "      <td>...</td>\n",
       "      <td>...</td>\n",
       "      <td>...</td>\n",
       "      <td>...</td>\n",
       "    </tr>\n",
       "    <tr>\n",
       "      <th>186611</th>\n",
       "      <td>593114226</td>\n",
       "      <td>toulon  france</td>\n",
       "      <td>France</td>\n",
       "      <td>city</td>\n",
       "      <td>Toulon</td>\n",
       "      <td>Var</td>\n",
       "      <td>Provence-Alpes-Côte d'Azur</td>\n",
       "      <td>city</td>\n",
       "    </tr>\n",
       "    <tr>\n",
       "      <th>186612</th>\n",
       "      <td>4032484462</td>\n",
       "      <td>biot  france</td>\n",
       "      <td>France</td>\n",
       "      <td>village</td>\n",
       "      <td>Le Biot</td>\n",
       "      <td>Haute-Savoie</td>\n",
       "      <td>Auvergne-Rhône-Alpes</td>\n",
       "      <td>city</td>\n",
       "    </tr>\n",
       "    <tr>\n",
       "      <th>186613</th>\n",
       "      <td>849307944420356096</td>\n",
       "      <td>paris  france</td>\n",
       "      <td>France</td>\n",
       "      <td>administrative</td>\n",
       "      <td>Paris</td>\n",
       "      <td>NaN</td>\n",
       "      <td>Île-de-France</td>\n",
       "      <td>county</td>\n",
       "    </tr>\n",
       "    <tr>\n",
       "      <th>186614</th>\n",
       "      <td>547048541</td>\n",
       "      <td>NaN</td>\n",
       "      <td>NaN</td>\n",
       "      <td>NaN</td>\n",
       "      <td>NaN</td>\n",
       "      <td>NaN</td>\n",
       "      <td>NaN</td>\n",
       "      <td>NaN</td>\n",
       "    </tr>\n",
       "    <tr>\n",
       "      <th>186615</th>\n",
       "      <td>620079690</td>\n",
       "      <td>guingamp</td>\n",
       "      <td>France</td>\n",
       "      <td>town</td>\n",
       "      <td>Guingamp</td>\n",
       "      <td>Côtes-d'Armor</td>\n",
       "      <td>Bretagne</td>\n",
       "      <td>city</td>\n",
       "    </tr>\n",
       "  </tbody>\n",
       "</table>\n",
       "<p>186616 rows × 8 columns</p>\n",
       "</div>"
      ],
      "text/plain": [
       "                   user_id                location_profile country_profile  \\\n",
       "0               1164377040                             NaN             NaN   \n",
       "1                208433335                 nantes  france           France   \n",
       "2                 70210292                         nevers           France   \n",
       "3               3001695178                             NaN             NaN   \n",
       "4                912871723   kelowna  colombie britanique              NaN   \n",
       "...                    ...                             ...             ...   \n",
       "186611           593114226                 toulon  france           France   \n",
       "186612          4032484462                   biot  france           France   \n",
       "186613  849307944420356096                  paris  france           France   \n",
       "186614           547048541                             NaN             NaN   \n",
       "186615           620079690                       guingamp           France   \n",
       "\n",
       "       osm_value_profile name_profile    county_profile  \\\n",
       "0                    NaN          NaN               NaN   \n",
       "1                   city       Nantes  Loire-Atlantique   \n",
       "2                   town       Nevers            Nièvre   \n",
       "3                    NaN          NaN               NaN   \n",
       "4                    NaN          NaN               NaN   \n",
       "...                  ...          ...               ...   \n",
       "186611              city       Toulon               Var   \n",
       "186612           village      Le Biot      Haute-Savoie   \n",
       "186613    administrative        Paris               NaN   \n",
       "186614               NaN          NaN               NaN   \n",
       "186615              town     Guingamp     Côtes-d'Armor   \n",
       "\n",
       "                     state_profile type_profile  \n",
       "0                              NaN          NaN  \n",
       "1                 Pays de la Loire         city  \n",
       "2          Bourgogne-Franche-Comté         city  \n",
       "3                              NaN          NaN  \n",
       "4                              NaN          NaN  \n",
       "...                            ...          ...  \n",
       "186611  Provence-Alpes-Côte d'Azur         city  \n",
       "186612        Auvergne-Rhône-Alpes         city  \n",
       "186613               Île-de-France       county  \n",
       "186614                         NaN          NaN  \n",
       "186615                    Bretagne         city  \n",
       "\n",
       "[186616 rows x 8 columns]"
      ]
     },
     "execution_count": 11,
     "metadata": {},
     "output_type": "execute_result"
    }
   ],
   "source": [
    "users"
   ]
  },
  {
   "cell_type": "markdown",
   "id": "favorite-antibody",
   "metadata": {},
   "source": [
    "Requête cash : ajout de variables utiles pour analyse et filtrage sur geoloc"
   ]
  },
  {
   "cell_type": "code",
   "execution_count": 15,
   "id": "electrical-radio",
   "metadata": {},
   "outputs": [],
   "source": [
    "df_cash = pd.read_pickle(f\"/home/cash/output/cleaned_queries/without_geoloc/query_fr_cash_cleaned.pickle\")\n",
    "# df_cash['covid'] = df_cash['clean_tweet'].str.contains(\"covid|pand(e|é)mie|(é|e)pid(é|e)mie|corona(virus| virus|-virus)\", na = False)\n",
    "df_cash = pd.merge(df_cash, users, how=\"left\", on=\"user_id\")"
   ]
  },
  {
   "cell_type": "code",
   "execution_count": 37,
   "id": "gentle-theater",
   "metadata": {},
   "outputs": [
    {
     "name": "stdout",
     "output_type": "stream",
     "text": [
      "Nombre de tweets hors France : 39823\n",
      "Nombre de tweets France : 70363\n",
      "Nombre de tweets geolocalisés : 110186\n",
      " Sur les tweets géolocalisés, 0.6385838491278384 concernent la France\n",
      "Nombre de tweets total: 200209\n",
      "0.4496451208487131 des tweets sont geolocalisés. \n"
     ]
    }
   ],
   "source": [
    "# Nombre de tweets hors France (ou geoloc bruit)\n",
    "nb_tweets_notfrance_or_bruit = len(df_cash[(df_cash[\"country_profile\"] != \"France\") & (df_cash[\"country_profile\"].isna()==False)])\n",
    "print(\"Nombre de tweets hors France : \"+str(nb_tweets_notfrance_or_bruit))\n",
    "\n",
    "# Nombre de tweets France (normalement pas de geoloc bruit car nettoyage avec is_clean_geoloc)\n",
    "nb_tweets_france = len(df_cash[(df_cash[\"country_profile\"] == \"France\")  \n",
    "                  & (df_cash[\"country_profile\"].isna()==False)])\n",
    "print(\"Nombre de tweets France : \" + str(nb_tweets_france))\n",
    "\n",
    "# Nombre de tweets geolocalisés (sans les tweets avec geoloc France mais qui sont en fait du bruit)\n",
    "nb_tweets_geoloc = nb_tweets_notfrance_or_bruit+nb_tweets_france\n",
    "print(\"Nombre de tweets geolocalisés : \" + str(nb_tweets_geoloc))\n",
    "print(\" Sur les tweets géolocalisés, \" +str((nb_tweets_geoloc-nb_tweets_notfrance_or_bruit)/nb_tweets_geoloc) + \" concernent la France\")\n",
    "\n",
    "# Nombre de tweets totaux \n",
    "nb_tweets = len(pd.read_pickle(f\"/home/cash/data/query_fr_cash_cleaned.pickle\"))\n",
    "print(\"Nombre de tweets total: \" + str(nb_tweets))\n",
    "print(str((nb_tweets-nb_tweets_geoloc)/nb_tweets) + \" des tweets sont geolocalisés. \")\n",
    "\n",
    "# répartition par pays à faire"
   ]
  },
  {
   "cell_type": "code",
   "execution_count": 38,
   "id": "julian-translator",
   "metadata": {},
   "outputs": [],
   "source": [
    "# Filtre sur la géoloc : garde que les tweets avec geoloc France\n",
    "df_cash = df_cash[(df_cash[\"country_profile\"] == \"France\")]"
   ]
  },
  {
   "cell_type": "code",
   "execution_count": 39,
   "id": "concerned-target",
   "metadata": {},
   "outputs": [],
   "source": [
    "len_df_cash_raw = len(pd.read_csv(f\"/home/cash/data/query_fr_cash.csv\"))\n",
    "len_df_cash_cleaned = len(pd.read_pickle(f\"/home/cash/data/query_fr_cash_cleaned.pickle\"))\n",
    "len_df_cash_cleaned_and_geoloc = len(df_cash)"
   ]
  },
  {
   "cell_type": "code",
   "execution_count": 40,
   "id": "interracial-jamaica",
   "metadata": {},
   "outputs": [
    {
     "name": "stdout",
     "output_type": "stream",
     "text": [
      "Requête cash : avant nettoyage de données : 314539\n",
      "Requête cash : après nettoyage de données : 200209\n",
      "Requête cash : après nettoyage de données : 0.36348433739536273 des lignes ont été supprimées\n",
      "Requête cash : après nettoyage de données et filtre sur les localisations : 70363\n",
      "Requête cash : après nettoyage de données et filtre sur les localisations : 0.7762980107395268 des lignes ont été supprimées\n"
     ]
    }
   ],
   "source": [
    "print(\"Requête cash : avant nettoyage de données : \"+ str(len_df_cash_raw))\n",
    "print(\"Requête cash : après nettoyage de données : \"+ str(len_df_cash_cleaned))\n",
    "print(\"Requête cash : après nettoyage de données : \"+ \n",
    "      str((len_df_cash_raw-len_df_cash_cleaned)/len_df_cash_raw)+\n",
    "      \" des lignes ont été supprimées\")\n",
    "print(\"Requête cash : après nettoyage de données et filtre sur les localisations : \"+ str(len_df_cash_cleaned_and_geoloc))\n",
    "print(\"Requête cash : après nettoyage de données et filtre sur les localisations : \"+ \n",
    "      str((len_df_cash_raw-len_df_cash_cleaned_and_geoloc)/len_df_cash_raw)+\n",
    "      \" des lignes ont été supprimées\")"
   ]
  },
  {
   "cell_type": "markdown",
   "id": "third-consumer",
   "metadata": {},
   "source": [
    "Requête cb"
   ]
  },
  {
   "cell_type": "code",
   "execution_count": 16,
   "id": "administrative-wrestling",
   "metadata": {},
   "outputs": [],
   "source": [
    "df_cb = pd.read_pickle(f\"/home/cash/output/cleaned_queries/without_geoloc/query_fr_cb_cleaned.pickle\")\n",
    "# df_cb['covid'] = df_cb['clean_tweet'].str.contains(\"covid|pand(e|é)mie|(é|e)pid(é|e)mie|corona(virus| virus|-virus)\", na = False)\n",
    "df_cb = pd.merge(df_cb, users, how=\"left\", on=\"user_id\")"
   ]
  },
  {
   "cell_type": "code",
   "execution_count": 42,
   "id": "lined-simple",
   "metadata": {},
   "outputs": [
    {
     "name": "stdout",
     "output_type": "stream",
     "text": [
      "Nombre de tweets hors France : 41977\n",
      "Nombre de tweets France : 104177\n",
      "Nombre de tweets geolocalisés (France et autre): 146154\n",
      " Sur les tweets géolocalisés, 0.7127892496955266 concernent la France\n",
      "Nombre de tweets total: 255702\n",
      "0.4284205833352887 des tweets sont geolocalisés. \n"
     ]
    }
   ],
   "source": [
    "# Nombre de tweets hors France (ou geoloc bruit)\n",
    "nb_tweets_notfrance_or_bruit = len(df_cb[(df_cb[\"country_profile\"] != \"France\") & (df_cb[\"country_profile\"].isna()==False)])\n",
    "print(\"Nombre de tweets hors France : \"+str(nb_tweets_notfrance_or_bruit))\n",
    "\n",
    "# Nombre de tweets France (normalement pas de geoloc bruit car nettoyage avec is_clean_geoloc)\n",
    "nb_tweets_france = len(df_cb[(df_cb[\"country_profile\"] == \"France\")  \n",
    "                  & (df_cb[\"country_profile\"].isna()==False)])\n",
    "print(\"Nombre de tweets France : \" + str(nb_tweets_france))\n",
    "\n",
    "# Nombre de tweets geolocalisés (sans les tweets avec geoloc France mais qui sont en fait du bruit)\n",
    "nb_tweets_geoloc = nb_tweets_notfrance_or_bruit+nb_tweets_france\n",
    "print(\"Nombre de tweets geolocalisés (France et autre): \" + str(nb_tweets_geoloc))\n",
    "print(\" Sur les tweets géolocalisés, \" +str((nb_tweets_geoloc-nb_tweets_notfrance_or_bruit)/nb_tweets_geoloc) + \" concernent la France\")\n",
    "\n",
    "# Nombre de tweets totaux \n",
    "nb_tweets = len(df_cb)\n",
    "print(\"Nombre de tweets total: \" + str(nb_tweets))\n",
    "print(str((nb_tweets-nb_tweets_geoloc)/nb_tweets) + \" des tweets sont geolocalisés. \")"
   ]
  },
  {
   "cell_type": "code",
   "execution_count": 44,
   "id": "reserved-postage",
   "metadata": {},
   "outputs": [],
   "source": [
    "# Filtre sur la géoloc : garde que les tweets avec geoloc France\n",
    "df_cb = df_cb[(df_cb[\"country_profile\"] == \"France\")]"
   ]
  },
  {
   "cell_type": "code",
   "execution_count": 45,
   "id": "impaired-copyright",
   "metadata": {},
   "outputs": [],
   "source": [
    "len_df_cb_raw = len(pd.read_csv(f\"/home/cash/data/query_fr_cb.csv\"))\n",
    "len_df_cb_cleaned = len(pd.read_pickle(f\"/home/cash/data/query_fr_cb_cleaned.pickle\"))\n",
    "len_df_cb_cleaned_and_geoloc = len(df_cb)"
   ]
  },
  {
   "cell_type": "code",
   "execution_count": 46,
   "id": "demanding-slope",
   "metadata": {},
   "outputs": [
    {
     "name": "stdout",
     "output_type": "stream",
     "text": [
      "Requête cb : avant nettoyage de données : 294417\n",
      "Requête cb : après nettoyage de données : 255702\n",
      "Requête cb : après nettoyage de données : 0.13149716218832472 des lignes ont été supprimées\n",
      "Requête cash : après nettoyage de données et filtre sur les localisations : 104177\n",
      "Requête cash : après nettoyage de données et filtre sur les localisations : 0.6461583400415057 des lignes ont été supprimées\n"
     ]
    }
   ],
   "source": [
    "print(\"Requête cb : avant nettoyage de données : \"+ str(len_df_cb_raw))\n",
    "print(\"Requête cb : après nettoyage de données : \"+ str(len_df_cb_cleaned))\n",
    "print(\"Requête cb : après nettoyage de données : \"+ \n",
    "      str((len_df_cb_raw-len_df_cb_cleaned)/len_df_cb_raw)+\n",
    "      \" des lignes ont été supprimées\")\n",
    "print(\"Requête cb : après nettoyage de données et filtre sur les localisations : \"+ str(len_df_cb_cleaned_and_geoloc))\n",
    "print(\"Requête cb : après nettoyage de données et filtre sur les localisations : \"+ \n",
    "      str((len_df_cb_raw-len_df_cb_cleaned_and_geoloc)/len_df_cb_raw)+\n",
    "      \" des lignes ont été supprimées\")"
   ]
  },
  {
   "cell_type": "markdown",
   "id": "unlikely-generation",
   "metadata": {},
   "source": [
    "Export pickle"
   ]
  },
  {
   "cell_type": "code",
   "execution_count": 47,
   "id": "worse-holiday",
   "metadata": {},
   "outputs": [],
   "source": [
    "df_cash.to_pickle(\"/home/cash/output/cleaned_queries/with_geoloc/query_fr_cash_cleaned_geoloc.pickle\")\n",
    "df_cb.to_pickle(\"/home/cash/output/cleaned_queries/with_geoloc/query_fr_cb_cleaned_geoloc.pickle\")"
   ]
  },
  {
   "cell_type": "code",
   "execution_count": 17,
   "id": "imperial-hampshire",
   "metadata": {},
   "outputs": [
    {
     "name": "stdout",
     "output_type": "stream",
     "text": [
      "70363\n"
     ]
    },
    {
     "data": {
      "text/plain": [
       "104177"
      ]
     },
     "execution_count": 17,
     "metadata": {},
     "output_type": "execute_result"
    }
   ],
   "source": [
    "print(len(pd.read_pickle(f\"/home/cash/output/cleaned_queries/with_geoloc/query_fr_cash_cleaned_geoloc.pickle\")))\n",
    "len(pd.read_pickle(f\"/home/cash/output/cleaned_queries/with_geoloc/query_fr_cb_cleaned_geoloc.pickle\"))"
   ]
  },
  {
   "cell_type": "markdown",
   "id": "institutional-feelings",
   "metadata": {},
   "source": [
    "# Clean geolocalisation des requetes sans contact"
   ]
  },
  {
   "cell_type": "code",
   "execution_count": 40,
   "id": "driving-source",
   "metadata": {},
   "outputs": [],
   "source": [
    "users = pd.read_csv(f'/home/cash/data/geolocation/users_profiles_contacless_fr_with_geoloc.csv')"
   ]
  },
  {
   "cell_type": "markdown",
   "id": "amino-router",
   "metadata": {},
   "source": [
    "## Data processing et comparaison de volume lors de cette étape"
   ]
  },
  {
   "cell_type": "code",
   "execution_count": 41,
   "id": "confirmed-teddy",
   "metadata": {},
   "outputs": [],
   "source": [
    "users = clean_users_with_geoloc(users)"
   ]
  },
  {
   "cell_type": "code",
   "execution_count": 42,
   "id": "academic-cache",
   "metadata": {},
   "outputs": [],
   "source": [
    "df_contacless = pd.read_pickle(f\"/home/cash/output/cleaned_queries/without_geoloc/query_fr_contactless_cleaned.pickle\")\n",
    "# df_cash['covid'] = df_cash['clean_tweet'].str.contains(\"covid|pand(e|é)mie|(é|e)pid(é|e)mie|corona(virus| virus|-virus)\", na = False)\n",
    "df_contacless = pd.merge(df_contacless, users, how=\"left\", on=\"user_id\")"
   ]
  },
  {
   "cell_type": "code",
   "execution_count": 43,
   "id": "mighty-keeping",
   "metadata": {},
   "outputs": [
    {
     "name": "stdout",
     "output_type": "stream",
     "text": [
      "Nombre de tweets hors France : 7341\n",
      "(48030, 49)\n",
      "Nombre de tweets France : 23336\n",
      "Nombre de tweets geolocalisés : 30677\n",
      " Sur les tweets géolocalisés, 0.760700198846041 concernent la France\n",
      "Nombre de tweets total: 48030\n",
      "0.3612950239433687 des tweets sont geolocalisés. \n"
     ]
    }
   ],
   "source": [
    "# Nombre de tweets hors France (ou geoloc bruit)\n",
    "nb_tweets_notfrance_or_bruit = len(df_contacless[(df_contacless[\"country_profile\"] != \"France\") & (df_contacless[\"country_profile\"].isna()==False)])\n",
    "print(\"Nombre de tweets hors France : \"+str(nb_tweets_notfrance_or_bruit))\n",
    "print(df_contacless.shape)\n",
    "\n",
    "# Nombre de tweets France (normalement pas de geoloc bruit car nettoyage avec is_clean_geoloc)\n",
    "nb_tweets_france = len(df_contacless[(df_contacless[\"country_profile\"] == \"France\")  \n",
    "                  & (df_contacless[\"country_profile\"].isna()==False)])\n",
    "print(\"Nombre de tweets France : \" + str(nb_tweets_france))\n",
    "\n",
    "# Nombre de tweets geolocalisés (sans les tweets avec geoloc France mais qui sont en fait du bruit)\n",
    "nb_tweets_geoloc = nb_tweets_notfrance_or_bruit+nb_tweets_france\n",
    "print(\"Nombre de tweets geolocalisés : \" + str(nb_tweets_geoloc))\n",
    "print(\" Sur les tweets géolocalisés, \" +str((nb_tweets_geoloc-nb_tweets_notfrance_or_bruit)/nb_tweets_geoloc) + \" concernent la France\")\n",
    "\n",
    "# Nombre de tweets totaux \n",
    "nb_tweets = len(df_contacless)\n",
    "print(\"Nombre de tweets total: \" + str(nb_tweets))\n",
    "print(str((nb_tweets-nb_tweets_geoloc)/nb_tweets) + \" des tweets sont geolocalisés. \")\n"
   ]
  },
  {
   "cell_type": "markdown",
   "id": "dental-forty",
   "metadata": {},
   "source": [
    "## Filtre : sélection des tweets géolocalisés"
   ]
  },
  {
   "cell_type": "code",
   "execution_count": 44,
   "id": "lonely-wisconsin",
   "metadata": {},
   "outputs": [],
   "source": [
    "# Filtre sur la géoloc : garde que les tweets avec geoloc France\n",
    "df_contacless = df_contacless[(df_contacless[\"country_profile\"] == \"France\")]"
   ]
  },
  {
   "cell_type": "code",
   "execution_count": 45,
   "id": "spoken-mortgage",
   "metadata": {},
   "outputs": [
    {
     "data": {
      "text/plain": [
       "(23336, 49)"
      ]
     },
     "execution_count": 45,
     "metadata": {},
     "output_type": "execute_result"
    }
   ],
   "source": [
    "df_contacless.shape"
   ]
  },
  {
   "cell_type": "code",
   "execution_count": 33,
   "id": "mechanical-expense",
   "metadata": {},
   "outputs": [],
   "source": [
    "df_contactless_cb_fr = pd.read_csv(f\"/home/cash/data/queries/query_contactless_cb_fr_part1.csv\")\n",
    "df_contactless_smartphone_fr = pd.read_csv(f\"/home/cash/data/queries/query_contactless_smartphone_fr_part1.csv\")\n",
    "len_df_contactless_raw = len(pd.concat([df_contactless_cb_fr, df_contactless_smartphone_fr]))\n",
    "len_df_contactless_cleaned = len(pd.read_pickle(f\"/home/cash/output/cleaned_queries/without_geoloc/query_fr_contactless_cleaned.pickle\"))\n",
    "len_df_contactless_cleaned_and_geoloc = len(df_contacless)"
   ]
  },
  {
   "cell_type": "code",
   "execution_count": 39,
   "id": "awful-scope",
   "metadata": {},
   "outputs": [
    {
     "name": "stdout",
     "output_type": "stream",
     "text": [
      "Requête sans contact : avant nettoyage de données : 101236\n",
      "Requête sans contact : après nettoyage de données : 48030\n",
      "Requête sans contact : après nettoyage de données : 0.5255640286064246 des lignes ont été supprimées\n",
      "Requête sans contact : après nettoyage de données et filtre sur les localisations : 23336\n",
      "Requête sans contact : après nettoyage de données et filtre sur les localisations : 0.7694891145442333 des lignes ont été supprimées\n"
     ]
    }
   ],
   "source": [
    "print(\"Requête sans contact : avant nettoyage de données : \"+ str(len_df_contactless_raw))\n",
    "print(\"Requête sans contact : après nettoyage de données : \"+ str(len_df_contactless_cleaned))\n",
    "print(\"Requête sans contact : après nettoyage de données : \"+ \n",
    "      str((len_df_contactless_raw-len_df_contactless_cleaned)/len_df_contactless_raw)+\n",
    "      \" des lignes ont été supprimées\")\n",
    "print(\"Requête sans contact : après nettoyage de données et filtre sur les localisations : \"+ str(len_df_contactless_cleaned_and_geoloc))\n",
    "print(\"Requête sans contact : après nettoyage de données et filtre sur les localisations : \"+ \n",
    "      str((len_df_contactless_raw-len_df_contactless_cleaned_and_geoloc)/len_df_contactless_raw)+\n",
    "      \" des lignes ont été supprimées\")"
   ]
  },
  {
   "cell_type": "markdown",
   "id": "mental-twins",
   "metadata": {},
   "source": [
    "### Ecriture du pickle : table nettoyée + geolocalisée"
   ]
  },
  {
   "cell_type": "code",
   "execution_count": 46,
   "id": "solid-click",
   "metadata": {},
   "outputs": [],
   "source": [
    "df_contacless.to_pickle(\"/home/cash/output/cleaned_queries/with_geoloc/query_fr_contactless_cleaned_geoloc.pickle\")"
   ]
  },
  {
   "cell_type": "code",
   "execution_count": 47,
   "id": "bizarre-leadership",
   "metadata": {},
   "outputs": [
    {
     "name": "stdout",
     "output_type": "stream",
     "text": [
      "23336\n"
     ]
    }
   ],
   "source": [
    "# Vérification\n",
    "print(len(pd.read_pickle(f\"/home/cash/output/cleaned_queries/with_geoloc/query_fr_contactless_cleaned_geoloc.pickle\")))"
   ]
  },
  {
   "cell_type": "code",
   "execution_count": null,
   "id": "disturbed-corps",
   "metadata": {},
   "outputs": [],
   "source": []
  }
 ],
 "metadata": {
  "kernelspec": {
   "display_name": "Python 3",
   "language": "python",
   "name": "python3"
  },
  "language_info": {
   "codemirror_mode": {
    "name": "ipython",
    "version": 3
   },
   "file_extension": ".py",
   "mimetype": "text/x-python",
   "name": "python",
   "nbconvert_exporter": "python",
   "pygments_lexer": "ipython3",
   "version": "3.8.5"
  }
 },
 "nbformat": 4,
 "nbformat_minor": 5
}
