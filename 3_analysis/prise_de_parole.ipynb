{
 "cells": [
  {
   "cell_type": "code",
   "execution_count": null,
   "id": "extreme-vanilla",
   "metadata": {},
   "outputs": [],
   "source": [
    "from collections import Counter\n",
    "import os\n",
    "\n",
    "import pandas as pd\n",
    "import nest_asyncio\n",
    "import seaborn as sns\n",
    "import twint\n",
    "\n",
    "pd.set_option('display.max_columns', 50)\n",
    "pd.set_option('display.max_colwidth', 150)\n",
    "nest_asyncio.apply()"
   ]
  },
  {
   "cell_type": "code",
   "execution_count": null,
   "id": "brazilian-document",
   "metadata": {},
   "outputs": [],
   "source": [
    "def get_timeline(username, search=None, since=None, verbose=False, fname=None):\n",
    "    # Configure\n",
    "    c = twint.Config()\n",
    "    c.Username = username\n",
    "    if search:\n",
    "        c.Search = search\n",
    "    \n",
    "    c.Store_csv = True\n",
    "    c.Output = fname if fname else f\"./timelines/{username}.csv\"\n",
    "    c.Since = since if since else \"2020-01-01\"\n",
    "    c.Hide_output = not verbose\n",
    "\n",
    "    # Run\n",
    "    twint.run.Search(c)\n",
    "\n",
    "\n",
    "def download_all_users(users, base_path=\"/home/cash/output/prise_de_parole\",**kwargs):\n",
    "    for group in users:\n",
    "        print(group)\n",
    "        os.makedirs(f\"{base_path}/timelines/{group}\", exist_ok=True)\n",
    "\n",
    "        for username in users[group]:\n",
    "            print(\"\\t\", username)\n",
    "            fname = f\"{base_path}/timelines/{group}/{username}.csv\"\n",
    "\n",
    "            if os.path.exists(fname):\n",
    "                continue\n",
    "\n",
    "            try:\n",
    "                get_timeline(username=username, fname=fname, **kwargs)\n",
    "            except ValueError:\n",
    "                print(f\"\\t\\tNOT FOUND!\")\n",
    "            else:\n",
    "                print(f\"\\t\\tFINISH!\")\n",
    "\n",
    "\n",
    "def import_group_df(users, group, base_path=\"/home/cash/output/prise_de_parole\", verbose=False):\n",
    "    lst = []\n",
    "\n",
    "    for username in users[group]:\n",
    "        if verbose:\n",
    "            print(\"\\t\", username)\n",
    "        fname = f\"{base_path}/timelines/{group}/{username}.csv\"\n",
    "        try:\n",
    "            lst += [pd.read_csv(fname)]\n",
    "        except FileNotFoundError:\n",
    "            if verbose:\n",
    "                print(f\"{username} NOT FOUND!\")\n",
    "\n",
    "    df = pd.concat(lst, axis=0)\n",
    "    df[\"has_covid\"] = df.tweet.str.contains(pat=COVID_PATTERN, case=False)\n",
    "    \n",
    "    return df"
   ]
  },
  {
   "cell_type": "markdown",
   "id": "italic-suspension",
   "metadata": {},
   "source": [
    "fédérations \n",
    "\n",
    "Mercatel, Perifem, FCD (fédération du Commerce et la distribution)"
   ]
  },
  {
   "cell_type": "code",
   "execution_count": null,
   "id": "nearby-chaos",
   "metadata": {},
   "outputs": [],
   "source": [
    "COVID_PATTERN = \"covid|coronavirus|virus\"\n",
    "\n",
    "USERS = {\n",
    "    \"banque\": [\"societegenerale\", \"SG_etVous\", # societe generale\n",
    "               \"cmarkea\", \"CreditMutuel\", \"CreditMutuelAF\", # credit mutuel\n",
    "               \"CreditAgricole\", \"ca_ndf\", \"CAPEcouteClient\", \"CA_info\", # credit agricole\n",
    "               \"CA_IDF\", \"ca_centrest\", \"CA_FranceComte\", \"CA_BriePicardie\", \"CA_Toulouse31\", \"Credit_Agri_TP\", \"CANSeine\" ,# CA region\n",
    "               \"CAAquitaine\", \"CAdelacorse\", \"credit_agri_PCA\", \"credit_agri_PG\" ,\"CASudRhoneAlpes\" ,\"CA_SudMed\", # CA region\n",
    "               \"cafproaix\" , \"CA_CentreLoire\", \"C_A_Lorraine\" ,\"ca_nordest\", \"CA_alp_prov\", \"CA_LHL\" , \"CAIlleEtVilaine\", \"Credit_Agri_TP\", # CA region\n",
    "               \"CAChampBourg\", \"ca_finistere\", \"CA_cotesdarmor\", \"CAAnjouMaine\", \"CALanguedoc\", \"CA_LCL\", \"CA_Des_Savoie\", \"CA_Des_Savoie\",# CA region\n",
    "               \"Caisse_Epargne\", \"FNCE\", # caisse epargne (CE)\n",
    "               \"CaissEpargneBPL\", \"CaissEpargneGEE\", \"CaissEpargneMP\", \"CaissEpargneLDA\", \"CaissepargneLR\", # CE region\n",
    "               \"CE_LoireCentre\", \"CE_RhoneAlpes\", \"CE_Normandie\", \"CE_CEPAC\", \"CEHDF\", \"CE_iledefrance\", # CE region\n",
    "               \"cic\", \"BNPParibas\", \"LaBanquePostale\", \"GroupeBPCE\", \"LCL\", \"FBFFrance\", \"Boursorama\", \"INGFrance\", \"BPEbanqueprivee\", \"creditdunord\", \"BanquePopulaire\",\n",
    "              ],\n",
    "    \n",
    "    \"gouvernement\": [\n",
    "        \"gouvernementFR\", \"Sante_Gouv\", \"olivierveran\", \"HAS_sante\", \"SantePubliqueFr\", \"Economie_Gouv\", \"Elysee\", \"DGEntreprises\", \"servicepublicfr\", \"dgfip_officiel\",\n",
    "        \"DocCedef\", \"dgccrf\", \"Interieur_Gouv\",\n",
    "    ],\n",
    "    \n",
    "    \"federations\": [\n",
    "        \"FCDfrance\", \"assoperifem\", \n",
    "    ]\n",
    "}"
   ]
  },
  {
   "cell_type": "markdown",
   "id": "material-mileage",
   "metadata": {},
   "source": [
    "# 1. Query"
   ]
  },
  {
   "cell_type": "code",
   "execution_count": null,
   "id": "latter-disposition",
   "metadata": {},
   "outputs": [],
   "source": [
    "download_all_users(USERS)"
   ]
  },
  {
   "cell_type": "markdown",
   "id": "shaped-productivity",
   "metadata": {},
   "source": [
    "# 2. Analysis"
   ]
  },
  {
   "cell_type": "code",
   "execution_count": null,
   "id": "failing-vulnerability",
   "metadata": {},
   "outputs": [],
   "source": [
    "df = pd.concat([import_group_df(users=USERS, group=group).assign(group=group) for group in [\"banque\", \"gouvernement\", \"federations\"]])"
   ]
  },
  {
   "cell_type": "code",
   "execution_count": null,
   "id": "supreme-spokesman",
   "metadata": {},
   "outputs": [],
   "source": [
    "df[lambda df: df.has_covid].groupby(by=[\"group\"]).size()"
   ]
  },
  {
   "cell_type": "code",
   "execution_count": null,
   "id": "enormous-harvey",
   "metadata": {},
   "outputs": [],
   "source": [
    "most_prolific = df[lambda df: df.has_covid].groupby(by=[\"group\", \"username\"], as_index=False).size().sort_values(\"size\", ascending=False).head(20)\n",
    "ax = sns.catplot(data=most_prolific, x=\"username\", y=\"size\", hue=\"group\", height=7, aspect=1.6)\n",
    "ax.set_xticklabels(rotation=45)"
   ]
  },
  {
   "cell_type": "code",
   "execution_count": null,
   "id": "pharmaceutical-huntington",
   "metadata": {},
   "outputs": [],
   "source": [
    "for group, dfgroup in df.groupby(\"group\"):\n",
    "    print(group)\n",
    "    print(dfgroup[lambda df: df.has_covid][[\"username\", \"tweet\"]])"
   ]
  },
  {
   "cell_type": "code",
   "execution_count": null,
   "id": "binding-looking",
   "metadata": {},
   "outputs": [],
   "source": []
  }
 ],
 "metadata": {
  "kernelspec": {
   "display_name": "Python 3",
   "language": "python",
   "name": "python3"
  },
  "language_info": {
   "codemirror_mode": {
    "name": "ipython",
    "version": 3
   },
   "file_extension": ".py",
   "mimetype": "text/x-python",
   "name": "python",
   "nbconvert_exporter": "python",
   "pygments_lexer": "ipython3",
   "version": "3.8.5"
  }
 },
 "nbformat": 4,
 "nbformat_minor": 5
}
