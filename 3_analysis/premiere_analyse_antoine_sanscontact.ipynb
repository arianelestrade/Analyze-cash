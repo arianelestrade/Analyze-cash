{
 "cells": [
  {
   "cell_type": "markdown",
   "id": "alpha-british",
   "metadata": {},
   "source": [
    "# Première analyse Antoine : Sans contact"
   ]
  },
  {
   "cell_type": "markdown",
   "id": "regional-raise",
   "metadata": {},
   "source": [
    "## Librairies"
   ]
  },
  {
   "cell_type": "code",
   "execution_count": 1,
   "id": "armed-crown",
   "metadata": {},
   "outputs": [],
   "source": [
    "import pandas as pd\n",
    "import numpy as np\n",
    "import seaborn as sns\n",
    "import matplotlib.pyplot as plt\n",
    "import time"
   ]
  },
  {
   "cell_type": "markdown",
   "id": "reverse-patio",
   "metadata": {},
   "source": [
    "## Data"
   ]
  },
  {
   "cell_type": "code",
   "execution_count": 2,
   "id": "intelligent-break",
   "metadata": {},
   "outputs": [
    {
     "name": "stdout",
     "output_type": "stream",
     "text": [
      "(23336, 49)\n"
     ]
    },
    {
     "data": {
      "text/plain": [
       "id                            int64\n",
       "conversation_id               int64\n",
       "created_at                   object\n",
       "date                         object\n",
       "time                         object\n",
       "timezone                      int64\n",
       "user_id                       int64\n",
       "username                     object\n",
       "name                         object\n",
       "place                        object\n",
       "tweet                        object\n",
       "language                     object\n",
       "mentions                     object\n",
       "urls                         object\n",
       "photos                       object\n",
       "replies_count                 int64\n",
       "retweets_count                int64\n",
       "likes_count                   int64\n",
       "hashtags                     object\n",
       "cashtags                     object\n",
       "link                         object\n",
       "retweet                        bool\n",
       "quote_url                    object\n",
       "video                         int64\n",
       "thumbnail                    object\n",
       "near                        float64\n",
       "geo                         float64\n",
       "source                      float64\n",
       "user_rt_id                  float64\n",
       "user_rt                     float64\n",
       "retweet_id                  float64\n",
       "reply_to                     object\n",
       "retweet_date                float64\n",
       "translate                   float64\n",
       "trans_src                   float64\n",
       "trans_dest                  float64\n",
       "type_contactless             object\n",
       "clean_tweet                  object\n",
       "pertinence_score              int64\n",
       "french_score                  int64\n",
       "english_score                 int64\n",
       "datetime             datetime64[ns]\n",
       "location_profile             object\n",
       "country_profile              object\n",
       "osm_value_profile            object\n",
       "name_profile                 object\n",
       "county_profile               object\n",
       "state_profile                object\n",
       "type_profile                 object\n",
       "dtype: object"
      ]
     },
     "execution_count": 2,
     "metadata": {},
     "output_type": "execute_result"
    }
   ],
   "source": [
    "df_contactless = pd.read_pickle(f\"/home/cash/output/cleaned_queries/with_geoloc/query_fr_contactless_cleaned_geoloc.pickle\")\n",
    "print(df_contactless.shape)\n",
    "df_contactless.dtypes"
   ]
  },
  {
   "cell_type": "markdown",
   "id": "adverse-shanghai",
   "metadata": {},
   "source": [
    "## Préparation"
   ]
  },
  {
   "cell_type": "code",
   "execution_count": 3,
   "id": "fourth-hanging",
   "metadata": {},
   "outputs": [
    {
     "name": "stdout",
     "output_type": "stream",
     "text": [
      "Index(['timezone', 'retweet', 'near', 'geo', 'source', 'user_rt_id', 'user_rt',\n",
      "       'retweet_id', 'retweet_date', 'translate', 'trans_src', 'trans_dest',\n",
      "       'english_score', 'country_profile'],\n",
      "      dtype='object')\n",
      "14\n",
      "(23336, 35)\n"
     ]
    }
   ],
   "source": [
    "# pris sur script Chloé\n",
    "# enlever les colonnes qui n'ont qu'une seule valeur\n",
    "\n",
    "columns_to_remove = df_contactless.columns[df_contactless.nunique() <= 1]\n",
    "print(columns_to_remove)\n",
    "print(len(columns_to_remove))\n",
    "df_contactless = df_contactless.drop(columns=columns_to_remove)\n",
    "print(df_contactless.shape)"
   ]
  },
  {
   "cell_type": "code",
   "execution_count": 4,
   "id": "pleased-sunglasses",
   "metadata": {},
   "outputs": [
    {
     "name": "stdout",
     "output_type": "stream",
     "text": [
      "Index(['place', 'quote_url'], dtype='object')\n",
      "(23336, 33)\n"
     ]
    },
    {
     "data": {
      "text/html": [
       "<div>\n",
       "<style scoped>\n",
       "    .dataframe tbody tr th:only-of-type {\n",
       "        vertical-align: middle;\n",
       "    }\n",
       "\n",
       "    .dataframe tbody tr th {\n",
       "        vertical-align: top;\n",
       "    }\n",
       "\n",
       "    .dataframe thead th {\n",
       "        text-align: right;\n",
       "    }\n",
       "</style>\n",
       "<table border=\"1\" class=\"dataframe\">\n",
       "  <thead>\n",
       "    <tr style=\"text-align: right;\">\n",
       "      <th></th>\n",
       "      <th>id</th>\n",
       "      <th>conversation_id</th>\n",
       "      <th>created_at</th>\n",
       "      <th>date</th>\n",
       "      <th>time</th>\n",
       "      <th>user_id</th>\n",
       "      <th>username</th>\n",
       "      <th>name</th>\n",
       "      <th>tweet</th>\n",
       "      <th>language</th>\n",
       "      <th>...</th>\n",
       "      <th>clean_tweet</th>\n",
       "      <th>pertinence_score</th>\n",
       "      <th>french_score</th>\n",
       "      <th>datetime</th>\n",
       "      <th>location_profile</th>\n",
       "      <th>osm_value_profile</th>\n",
       "      <th>name_profile</th>\n",
       "      <th>county_profile</th>\n",
       "      <th>state_profile</th>\n",
       "      <th>type_profile</th>\n",
       "    </tr>\n",
       "  </thead>\n",
       "  <tbody>\n",
       "    <tr>\n",
       "      <th>0</th>\n",
       "      <td>1159483826411835392</td>\n",
       "      <td>1159345639110643712</td>\n",
       "      <td>2019-08-08 15:17:41 UTC</td>\n",
       "      <td>2019-08-08</td>\n",
       "      <td>15:17:41</td>\n",
       "      <td>389662765</td>\n",
       "      <td>applydia</td>\n",
       "      <td>Lydia</td>\n",
       "      <td>@megaviria Bonjour, La carte Lydia est une car...</td>\n",
       "      <td>fr</td>\n",
       "      <td>...</td>\n",
       "      <td>@megaviria bonjour  la carte lydia est une car...</td>\n",
       "      <td>13</td>\n",
       "      <td>17</td>\n",
       "      <td>2019-08-08 15:17:41</td>\n",
       "      <td>france</td>\n",
       "      <td>country</td>\n",
       "      <td>France</td>\n",
       "      <td>NaN</td>\n",
       "      <td>NaN</td>\n",
       "      <td>country</td>\n",
       "    </tr>\n",
       "    <tr>\n",
       "      <th>1</th>\n",
       "      <td>1251045979568078848</td>\n",
       "      <td>1251045979568078848</td>\n",
       "      <td>2020-04-17 07:12:59 UTC</td>\n",
       "      <td>2020-04-17</td>\n",
       "      <td>07:12:59</td>\n",
       "      <td>2301655346</td>\n",
       "      <td>galitt_officiel</td>\n",
       "      <td>galitt</td>\n",
       "      <td>Coronavirus : le plafond du paiement sans cont...</td>\n",
       "      <td>fr</td>\n",
       "      <td>...</td>\n",
       "      <td>coronavirus   le plafond du paiement sans cont...</td>\n",
       "      <td>12</td>\n",
       "      <td>6</td>\n",
       "      <td>2020-04-17 07:12:59</td>\n",
       "      <td>paris - france</td>\n",
       "      <td>administrative</td>\n",
       "      <td>Paris</td>\n",
       "      <td>NaN</td>\n",
       "      <td>Île-de-France</td>\n",
       "      <td>county</td>\n",
       "    </tr>\n",
       "  </tbody>\n",
       "</table>\n",
       "<p>2 rows × 33 columns</p>\n",
       "</div>"
      ],
      "text/plain": [
       "                    id      conversation_id               created_at  \\\n",
       "0  1159483826411835392  1159345639110643712  2019-08-08 15:17:41 UTC   \n",
       "1  1251045979568078848  1251045979568078848  2020-04-17 07:12:59 UTC   \n",
       "\n",
       "         date      time     user_id         username    name  \\\n",
       "0  2019-08-08  15:17:41   389662765         applydia   Lydia   \n",
       "1  2020-04-17  07:12:59  2301655346  galitt_officiel  galitt   \n",
       "\n",
       "                                               tweet language  ...  \\\n",
       "0  @megaviria Bonjour, La carte Lydia est une car...       fr  ...   \n",
       "1  Coronavirus : le plafond du paiement sans cont...       fr  ...   \n",
       "\n",
       "                                         clean_tweet pertinence_score  \\\n",
       "0  @megaviria bonjour  la carte lydia est une car...               13   \n",
       "1  coronavirus   le plafond du paiement sans cont...               12   \n",
       "\n",
       "  french_score            datetime  location_profile  osm_value_profile  \\\n",
       "0           17 2019-08-08 15:17:41           france             country   \n",
       "1            6 2020-04-17 07:12:59   paris - france      administrative   \n",
       "\n",
       "  name_profile county_profile  state_profile  type_profile  \n",
       "0       France            NaN            NaN       country  \n",
       "1        Paris            NaN  Île-de-France        county  \n",
       "\n",
       "[2 rows x 33 columns]"
      ]
     },
     "execution_count": 4,
     "metadata": {},
     "output_type": "execute_result"
    }
   ],
   "source": [
    "# enlever colonnes avec trop de NaNs\n",
    "\n",
    "np.round((len(df_contactless) - df_contactless.count()) / len(df_contactless) * 100, \n",
    "                       decimals = 2) \n",
    "\n",
    "treshold_nan = 0.95\n",
    "columns_to_remove = df_contactless.columns[df_contactless.isna().sum() > df_contactless.shape[0]*treshold_nan ]\n",
    "print(columns_to_remove)\n",
    "df_contactless = df_contactless.drop(columns=columns_to_remove)\n",
    "print(df_contactless.shape)\n",
    "df_contactless.head(2)"
   ]
  },
  {
   "cell_type": "code",
   "execution_count": 5,
   "id": "compressed-summit",
   "metadata": {},
   "outputs": [
    {
     "name": "stdout",
     "output_type": "stream",
     "text": [
      "##### NUMERICAL ##### id                  int64\n",
      "conversation_id     int64\n",
      "user_id             int64\n",
      "replies_count       int64\n",
      "retweets_count      int64\n",
      "likes_count         int64\n",
      "video               int64\n",
      "pertinence_score    int64\n",
      "french_score        int64\n",
      "dtype: object\n",
      "##### CATEGORICAL ##### Index(['created_at', 'date', 'time', 'username', 'name', 'tweet', 'language',\n",
      "       'mentions', 'urls', 'photos', 'hashtags', 'cashtags', 'link',\n",
      "       'thumbnail', 'reply_to', 'type_contactless', 'clean_tweet', 'datetime',\n",
      "       'location_profile', 'osm_value_profile', 'name_profile',\n",
      "       'county_profile', 'state_profile', 'type_profile'],\n",
      "      dtype='object')\n"
     ]
    },
    {
     "name": "stderr",
     "output_type": "stream",
     "text": [
      "<ipython-input-5-dc9bf8310a09>:16: SettingWithCopyWarning: \n",
      "A value is trying to be set on a copy of a slice from a DataFrame.\n",
      "Try using .loc[row_indexer,col_indexer] = value instead\n",
      "\n",
      "See the caveats in the documentation: https://pandas.pydata.org/pandas-docs/stable/user_guide/indexing.html#returning-a-view-versus-a-copy\n",
      "  df_categorical[col] = pd.to_datetime(df_categorical[col], infer_datetime_format=False)\n"
     ]
    },
    {
     "name": "stdout",
     "output_type": "stream",
     "text": [
      "duree pour la colonne  created_at  :  3.9013500213623047\n",
      "duree pour la colonne  date  :  0.010989904403686523\n",
      "duree pour la colonne  time  :  1.0398287773132324\n",
      "##### DATES ##### created_at    datetime64[ns, UTC]\n",
      "date               datetime64[ns]\n",
      "time               datetime64[ns]\n",
      "datetime           datetime64[ns]\n",
      "dtype: object\n",
      "##### CATEGORICAL ##### Index(['username', 'name', 'tweet', 'language', 'mentions', 'urls', 'photos',\n",
      "       'hashtags', 'cashtags', 'link', 'thumbnail', 'reply_to',\n",
      "       'type_contactless', 'clean_tweet', 'location_profile',\n",
      "       'osm_value_profile', 'name_profile', 'county_profile', 'state_profile',\n",
      "       'type_profile'],\n",
      "      dtype='object')\n"
     ]
    }
   ],
   "source": [
    "# conversion de certaines colonnes vers le bon type\n",
    "\n",
    "numerics = ['int16', 'int32', 'int64', 'float16', 'float32', 'float64']\n",
    "df_numeric = df_contactless.select_dtypes(include=numerics)\n",
    "print(\"##### NUMERICAL #####\",df_numeric.dtypes)\n",
    "\n",
    "df_categorical = df_contactless.select_dtypes(exclude=numerics)\n",
    "print(\"##### CATEGORICAL #####\", df_categorical.columns)\n",
    "\n",
    "\n",
    "# date time\n",
    "columns_date = ['created_at', 'date', 'time']\n",
    "\n",
    "for col in columns_date :\n",
    "    t1 = time.time()\n",
    "    df_categorical[col] = pd.to_datetime(df_categorical[col], infer_datetime_format=False)\n",
    "    print(\"duree pour la colonne \", col, \" : \", time.time() - t1)\n",
    "    \n",
    "dates = ['datetime64[ns]', 'datetime64[ns, UTC]']\n",
    "df_date = df_categorical.select_dtypes(include=dates)\n",
    "print(\"##### DATES #####\", df_date.dtypes)\n",
    "\n",
    "df_categorical = df_categorical.select_dtypes(exclude=dates)\n",
    "print(\"##### CATEGORICAL #####\", df_categorical.columns)"
   ]
  },
  {
   "cell_type": "code",
   "execution_count": 17,
   "id": "curious-major",
   "metadata": {},
   "outputs": [
    {
     "name": "stdout",
     "output_type": "stream",
     "text": [
      "(23336, 32)\n"
     ]
    },
    {
     "data": {
      "text/html": [
       "<div>\n",
       "<style scoped>\n",
       "    .dataframe tbody tr th:only-of-type {\n",
       "        vertical-align: middle;\n",
       "    }\n",
       "\n",
       "    .dataframe tbody tr th {\n",
       "        vertical-align: top;\n",
       "    }\n",
       "\n",
       "    .dataframe thead th {\n",
       "        text-align: right;\n",
       "    }\n",
       "</style>\n",
       "<table border=\"1\" class=\"dataframe\">\n",
       "  <thead>\n",
       "    <tr style=\"text-align: right;\">\n",
       "      <th></th>\n",
       "      <th>id</th>\n",
       "      <th>conversation_id</th>\n",
       "      <th>user_id</th>\n",
       "      <th>replies_count</th>\n",
       "      <th>retweets_count</th>\n",
       "      <th>likes_count</th>\n",
       "      <th>video</th>\n",
       "      <th>pertinence_score</th>\n",
       "      <th>french_score</th>\n",
       "      <th>created_at</th>\n",
       "      <th>...</th>\n",
       "      <th>thumbnail</th>\n",
       "      <th>reply_to</th>\n",
       "      <th>type_contactless</th>\n",
       "      <th>clean_tweet</th>\n",
       "      <th>location_profile</th>\n",
       "      <th>osm_value_profile</th>\n",
       "      <th>name_profile</th>\n",
       "      <th>county_profile</th>\n",
       "      <th>state_profile</th>\n",
       "      <th>type_profile</th>\n",
       "    </tr>\n",
       "    <tr>\n",
       "      <th>datetime</th>\n",
       "      <th></th>\n",
       "      <th></th>\n",
       "      <th></th>\n",
       "      <th></th>\n",
       "      <th></th>\n",
       "      <th></th>\n",
       "      <th></th>\n",
       "      <th></th>\n",
       "      <th></th>\n",
       "      <th></th>\n",
       "      <th></th>\n",
       "      <th></th>\n",
       "      <th></th>\n",
       "      <th></th>\n",
       "      <th></th>\n",
       "      <th></th>\n",
       "      <th></th>\n",
       "      <th></th>\n",
       "      <th></th>\n",
       "      <th></th>\n",
       "      <th></th>\n",
       "    </tr>\n",
       "  </thead>\n",
       "  <tbody>\n",
       "    <tr>\n",
       "      <th>2019-08-08 15:17:41</th>\n",
       "      <td>1159483826411835392</td>\n",
       "      <td>1159345639110643712</td>\n",
       "      <td>389662765</td>\n",
       "      <td>1</td>\n",
       "      <td>0</td>\n",
       "      <td>0</td>\n",
       "      <td>0</td>\n",
       "      <td>13</td>\n",
       "      <td>17</td>\n",
       "      <td>2019-08-08 15:17:41+00:00</td>\n",
       "      <td>...</td>\n",
       "      <td>NaN</td>\n",
       "      <td>[{'screen_name': 'megaviria', 'name': 'Maria E...</td>\n",
       "      <td>smartphone</td>\n",
       "      <td>@megaviria bonjour  la carte lydia est une car...</td>\n",
       "      <td>france</td>\n",
       "      <td>country</td>\n",
       "      <td>France</td>\n",
       "      <td>NaN</td>\n",
       "      <td>NaN</td>\n",
       "      <td>country</td>\n",
       "    </tr>\n",
       "    <tr>\n",
       "      <th>2020-04-17 07:12:59</th>\n",
       "      <td>1251045979568078848</td>\n",
       "      <td>1251045979568078848</td>\n",
       "      <td>2301655346</td>\n",
       "      <td>0</td>\n",
       "      <td>2</td>\n",
       "      <td>2</td>\n",
       "      <td>1</td>\n",
       "      <td>12</td>\n",
       "      <td>6</td>\n",
       "      <td>2020-04-17 07:12:59+00:00</td>\n",
       "      <td>...</td>\n",
       "      <td>https://pbs.twimg.com/media/EVybGQCXkAAjPlR.jpg</td>\n",
       "      <td>[]</td>\n",
       "      <td>cb</td>\n",
       "      <td>coronavirus   le plafond du paiement sans cont...</td>\n",
       "      <td>paris - france</td>\n",
       "      <td>administrative</td>\n",
       "      <td>Paris</td>\n",
       "      <td>NaN</td>\n",
       "      <td>Île-de-France</td>\n",
       "      <td>county</td>\n",
       "    </tr>\n",
       "  </tbody>\n",
       "</table>\n",
       "<p>2 rows × 32 columns</p>\n",
       "</div>"
      ],
      "text/plain": [
       "                                      id      conversation_id     user_id  \\\n",
       "datetime                                                                    \n",
       "2019-08-08 15:17:41  1159483826411835392  1159345639110643712   389662765   \n",
       "2020-04-17 07:12:59  1251045979568078848  1251045979568078848  2301655346   \n",
       "\n",
       "                     replies_count  retweets_count  likes_count  video  \\\n",
       "datetime                                                                 \n",
       "2019-08-08 15:17:41              1               0            0      0   \n",
       "2020-04-17 07:12:59              0               2            2      1   \n",
       "\n",
       "                     pertinence_score  french_score                created_at  \\\n",
       "datetime                                                                        \n",
       "2019-08-08 15:17:41                13            17 2019-08-08 15:17:41+00:00   \n",
       "2020-04-17 07:12:59                12             6 2020-04-17 07:12:59+00:00   \n",
       "\n",
       "                     ...                                        thumbnail  \\\n",
       "datetime             ...                                                    \n",
       "2019-08-08 15:17:41  ...                                              NaN   \n",
       "2020-04-17 07:12:59  ...  https://pbs.twimg.com/media/EVybGQCXkAAjPlR.jpg   \n",
       "\n",
       "                                                              reply_to  \\\n",
       "datetime                                                                 \n",
       "2019-08-08 15:17:41  [{'screen_name': 'megaviria', 'name': 'Maria E...   \n",
       "2020-04-17 07:12:59                                                 []   \n",
       "\n",
       "                    type_contactless  \\\n",
       "datetime                               \n",
       "2019-08-08 15:17:41       smartphone   \n",
       "2020-04-17 07:12:59               cb   \n",
       "\n",
       "                                                           clean_tweet  \\\n",
       "datetime                                                                 \n",
       "2019-08-08 15:17:41  @megaviria bonjour  la carte lydia est une car...   \n",
       "2020-04-17 07:12:59  coronavirus   le plafond du paiement sans cont...   \n",
       "\n",
       "                     location_profile osm_value_profile name_profile  \\\n",
       "datetime                                                               \n",
       "2019-08-08 15:17:41           france            country       France   \n",
       "2020-04-17 07:12:59   paris - france     administrative        Paris   \n",
       "\n",
       "                    county_profile  state_profile type_profile  \n",
       "datetime                                                        \n",
       "2019-08-08 15:17:41            NaN            NaN      country  \n",
       "2020-04-17 07:12:59            NaN  Île-de-France       county  \n",
       "\n",
       "[2 rows x 32 columns]"
      ]
     },
     "execution_count": 17,
     "metadata": {},
     "output_type": "execute_result"
    }
   ],
   "source": [
    "# dataframe final\n",
    "\n",
    "df_contactless = pd.concat([df_numeric, df_date, df_categorical], axis=1)\n",
    "df_contactless.set_index(\"datetime\", inplace=True)\n",
    "print(df_contactless.shape)\n",
    "df_contactless.head(2)"
   ]
  },
  {
   "cell_type": "markdown",
   "id": "acoustic-addition",
   "metadata": {},
   "source": [
    "## Première analyse"
   ]
  },
  {
   "cell_type": "code",
   "execution_count": 7,
   "id": "elect-sacrifice",
   "metadata": {},
   "outputs": [
    {
     "data": {
      "text/html": [
       "<div>\n",
       "<style scoped>\n",
       "    .dataframe tbody tr th:only-of-type {\n",
       "        vertical-align: middle;\n",
       "    }\n",
       "\n",
       "    .dataframe tbody tr th {\n",
       "        vertical-align: top;\n",
       "    }\n",
       "\n",
       "    .dataframe thead th {\n",
       "        text-align: right;\n",
       "    }\n",
       "</style>\n",
       "<table border=\"1\" class=\"dataframe\">\n",
       "  <thead>\n",
       "    <tr style=\"text-align: right;\">\n",
       "      <th></th>\n",
       "      <th>id</th>\n",
       "      <th>conversation_id</th>\n",
       "      <th>user_id</th>\n",
       "      <th>replies_count</th>\n",
       "      <th>retweets_count</th>\n",
       "      <th>likes_count</th>\n",
       "      <th>video</th>\n",
       "      <th>pertinence_score</th>\n",
       "      <th>french_score</th>\n",
       "    </tr>\n",
       "  </thead>\n",
       "  <tbody>\n",
       "    <tr>\n",
       "      <th>count</th>\n",
       "      <td>2.333600e+04</td>\n",
       "      <td>2.333600e+04</td>\n",
       "      <td>2.333600e+04</td>\n",
       "      <td>23336.000000</td>\n",
       "      <td>23336.000000</td>\n",
       "      <td>23336.000000</td>\n",
       "      <td>23336.000000</td>\n",
       "      <td>23336.000000</td>\n",
       "      <td>23336.000000</td>\n",
       "    </tr>\n",
       "    <tr>\n",
       "      <th>mean</th>\n",
       "      <td>1.161903e+18</td>\n",
       "      <td>1.161583e+18</td>\n",
       "      <td>2.397394e+17</td>\n",
       "      <td>0.526397</td>\n",
       "      <td>1.174751</td>\n",
       "      <td>3.053051</td>\n",
       "      <td>0.297737</td>\n",
       "      <td>2.766755</td>\n",
       "      <td>6.555494</td>\n",
       "    </tr>\n",
       "    <tr>\n",
       "      <th>std</th>\n",
       "      <td>1.269227e+17</td>\n",
       "      <td>1.269969e+17</td>\n",
       "      <td>4.184079e+17</td>\n",
       "      <td>3.355066</td>\n",
       "      <td>15.401134</td>\n",
       "      <td>36.234048</td>\n",
       "      <td>0.457273</td>\n",
       "      <td>1.370469</td>\n",
       "      <td>4.359819</td>\n",
       "    </tr>\n",
       "    <tr>\n",
       "      <th>min</th>\n",
       "      <td>9.477734e+17</td>\n",
       "      <td>8.015348e+17</td>\n",
       "      <td>4.621130e+05</td>\n",
       "      <td>0.000000</td>\n",
       "      <td>0.000000</td>\n",
       "      <td>0.000000</td>\n",
       "      <td>0.000000</td>\n",
       "      <td>1.000000</td>\n",
       "      <td>1.000000</td>\n",
       "    </tr>\n",
       "    <tr>\n",
       "      <th>25%</th>\n",
       "      <td>1.044690e+18</td>\n",
       "      <td>1.044233e+18</td>\n",
       "      <td>2.320871e+08</td>\n",
       "      <td>0.000000</td>\n",
       "      <td>0.000000</td>\n",
       "      <td>0.000000</td>\n",
       "      <td>0.000000</td>\n",
       "      <td>2.000000</td>\n",
       "      <td>3.000000</td>\n",
       "    </tr>\n",
       "    <tr>\n",
       "      <th>50%</th>\n",
       "      <td>1.175816e+18</td>\n",
       "      <td>1.174949e+18</td>\n",
       "      <td>1.338990e+09</td>\n",
       "      <td>0.000000</td>\n",
       "      <td>0.000000</td>\n",
       "      <td>0.000000</td>\n",
       "      <td>0.000000</td>\n",
       "      <td>2.000000</td>\n",
       "      <td>5.000000</td>\n",
       "    </tr>\n",
       "    <tr>\n",
       "      <th>75%</th>\n",
       "      <td>1.261584e+18</td>\n",
       "      <td>1.261489e+18</td>\n",
       "      <td>7.081657e+17</td>\n",
       "      <td>1.000000</td>\n",
       "      <td>0.000000</td>\n",
       "      <td>1.000000</td>\n",
       "      <td>1.000000</td>\n",
       "      <td>3.000000</td>\n",
       "      <td>9.000000</td>\n",
       "    </tr>\n",
       "    <tr>\n",
       "      <th>max</th>\n",
       "      <td>1.388264e+18</td>\n",
       "      <td>1.388208e+18</td>\n",
       "      <td>1.380451e+18</td>\n",
       "      <td>231.000000</td>\n",
       "      <td>1864.000000</td>\n",
       "      <td>2544.000000</td>\n",
       "      <td>1.000000</td>\n",
       "      <td>13.000000</td>\n",
       "      <td>27.000000</td>\n",
       "    </tr>\n",
       "  </tbody>\n",
       "</table>\n",
       "</div>"
      ],
      "text/plain": [
       "                 id  conversation_id       user_id  replies_count  \\\n",
       "count  2.333600e+04     2.333600e+04  2.333600e+04   23336.000000   \n",
       "mean   1.161903e+18     1.161583e+18  2.397394e+17       0.526397   \n",
       "std    1.269227e+17     1.269969e+17  4.184079e+17       3.355066   \n",
       "min    9.477734e+17     8.015348e+17  4.621130e+05       0.000000   \n",
       "25%    1.044690e+18     1.044233e+18  2.320871e+08       0.000000   \n",
       "50%    1.175816e+18     1.174949e+18  1.338990e+09       0.000000   \n",
       "75%    1.261584e+18     1.261489e+18  7.081657e+17       1.000000   \n",
       "max    1.388264e+18     1.388208e+18  1.380451e+18     231.000000   \n",
       "\n",
       "       retweets_count   likes_count         video  pertinence_score  \\\n",
       "count    23336.000000  23336.000000  23336.000000      23336.000000   \n",
       "mean         1.174751      3.053051      0.297737          2.766755   \n",
       "std         15.401134     36.234048      0.457273          1.370469   \n",
       "min          0.000000      0.000000      0.000000          1.000000   \n",
       "25%          0.000000      0.000000      0.000000          2.000000   \n",
       "50%          0.000000      0.000000      0.000000          2.000000   \n",
       "75%          0.000000      1.000000      1.000000          3.000000   \n",
       "max       1864.000000   2544.000000      1.000000         13.000000   \n",
       "\n",
       "       french_score  \n",
       "count  23336.000000  \n",
       "mean       6.555494  \n",
       "std        4.359819  \n",
       "min        1.000000  \n",
       "25%        3.000000  \n",
       "50%        5.000000  \n",
       "75%        9.000000  \n",
       "max       27.000000  "
      ]
     },
     "execution_count": 7,
     "metadata": {},
     "output_type": "execute_result"
    }
   ],
   "source": [
    "df_contactless.describe()"
   ]
  },
  {
   "cell_type": "markdown",
   "id": "ancient-jordan",
   "metadata": {},
   "source": [
    "### CB vs Smartphone"
   ]
  },
  {
   "cell_type": "code",
   "execution_count": 18,
   "id": "allied-estimate",
   "metadata": {},
   "outputs": [
    {
     "name": "stdout",
     "output_type": "stream",
     "text": [
      "shape df cb : (15330, 32)\n",
      "shape df smartphone : (8006, 32)\n"
     ]
    }
   ],
   "source": [
    "# comparer cb et smartphone dans un premier temps et pour prendre en main les fonctions\n",
    "df_cb = df_contactless[df_contactless['type_contactless'] == 'cb']\n",
    "df_smartphone = df_contactless[df_contactless['type_contactless'] == 'smartphone']\n",
    "\n",
    "print('shape df cb :', df_cb.shape)\n",
    "print('shape df smartphone :', df_smartphone.shape)"
   ]
  },
  {
   "cell_type": "code",
   "execution_count": 33,
   "id": "voluntary-sussex",
   "metadata": {},
   "outputs": [
    {
     "data": {
      "text/plain": [
       "<matplotlib.legend.Legend at 0x7f0ef1f39ee0>"
      ]
     },
     "execution_count": 33,
     "metadata": {},
     "output_type": "execute_result"
    },
    {
     "data": {
      "image/png": "[encoded data removed]",
      "text/plain": [
       "<Figure size 648x504 with 1 Axes>"
      ]
     },
     "metadata": {
      "needs_background": "light"
     },
     "output_type": "display_data"
    }
   ],
   "source": [
    "cb = df_cb['id'].resample(\"M\").count()\n",
    "smartphone = df_smartphone['id'].resample(\"M\").count()\n",
    "\n",
    "ax = cb.plot(figsize=(9, 7), label = \"cb\")\n",
    "ax = smartphone.plot(figsize=(9, 7),  label = \"smartphone\")\n",
    "\n",
    "ax.set_title(\"Comparaison cb vs smartphone\", fontweight=\"bold\")\n",
    "ax.legend(ncol=2, loc=\"upper left\")"
   ]
  },
  {
   "cell_type": "markdown",
   "id": "controlled-gauge",
   "metadata": {},
   "source": [
    "### Points d'attention (plafond, peur fraude, frais, protection contamination)"
   ]
  },
  {
   "cell_type": "markdown",
   "id": "linear-blanket",
   "metadata": {},
   "source": [
    "Points d'attention à étudier : le plafond de paiement, la peur de la fraude via le sans contact, les frais bancaires, la protection contre la contamination offerte par le sans contact"
   ]
  },
  {
   "cell_type": "code",
   "execution_count": 37,
   "id": "capable-cholesterol",
   "metadata": {},
   "outputs": [
    {
     "data": {
      "text/plain": [
       "<matplotlib.legend.Legend at 0x7f0eea4e4880>"
      ]
     },
     "execution_count": 37,
     "metadata": {},
     "output_type": "execute_result"
    },
    {
     "data": {
      "image/png": "[encoded data removed]",
      "text/plain": [
       "<Figure size 648x504 with 1 Axes>"
      ]
     },
     "metadata": {
      "needs_background": "light"
     },
     "output_type": "display_data"
    }
   ],
   "source": [
    "# points d'attention\n",
    "\n",
    "plafond = df_contactless.tweet.str.count(\"plafond\").resample(\"M\").sum()\n",
    "fraude = df_contactless.tweet.str.count(\"peur | fraude\").resample(\"M\").sum()\n",
    "frais = df_contactless.tweet.str.count(\"frais\").resample(\"M\").sum()\n",
    "protection = df_contactless.tweet.str.count(\"protection | contamination\").resample(\"M\").sum()\n",
    "\n",
    "ax = plafond.plot(figsize=(9, 7),  label = \"plafond\")\n",
    "ax = fraude.plot(figsize=(9, 7),  label = \"fraude\")\n",
    "ax = frais.plot(figsize=(9, 7),  label = \"frais\")\n",
    "ax = protection.plot(figsize=(9, 7),  label = \"protection\")\n",
    "\n",
    "ax.set_title(\"Focus : plafond de paiement, peur de la fraude via le sans contact, frais bancaires, protection contre la contamination offerte par le sans contact\", fontweight=\"bold\")\n",
    "ax.legend(ncol=2, loc=\"upper left\")"
   ]
  },
  {
   "cell_type": "code",
   "execution_count": 38,
   "id": "skilled-elizabeth",
   "metadata": {},
   "outputs": [
    {
     "data": {
      "text/plain": [
       "<matplotlib.legend.Legend at 0x7f0eea4205b0>"
      ]
     },
     "execution_count": 38,
     "metadata": {},
     "output_type": "execute_result"
    },
    {
     "data": {
      "image/png": "[encoded data removed]",
      "text/plain": [
       "<Figure size 648x504 with 1 Axes>"
      ]
     },
     "metadata": {
      "needs_background": "light"
     },
     "output_type": "display_data"
    }
   ],
   "source": [
    "# séparer plafond du reste car forte différence de valeur qui rend le plot moins lisible\n",
    "\n",
    "ax = fraude.plot(figsize=(9, 7),  label = \"fraude\")\n",
    "ax = frais.plot(figsize=(9, 7),  label = \"frais\")\n",
    "ax = protection.plot(figsize=(9, 7),  label = \"protection\")\n",
    "\n",
    "ax.set_title(\"Focus : peur de la fraude via le sans contact, frais bancaires, protection contre la contamination offerte par le sans contact (sans plafond)\", fontweight=\"bold\")\n",
    "ax.legend(ncol=2, loc=\"upper left\")"
   ]
  },
  {
   "cell_type": "markdown",
   "id": "interim-immunology",
   "metadata": {},
   "source": [
    "### A quoi correspondent les pics ?"
   ]
  },
  {
   "cell_type": "code",
   "execution_count": 43,
   "id": "surgical-respondent",
   "metadata": {},
   "outputs": [
    {
     "data": {
      "text/plain": [
       "['paiement sans contact\\xa0  le plafond de paiement déconfiné le 11\\xa0mai  rien n est moins sûr   ///mnmh8g2pho via @zdnetfr',\n",
       " 'paiement sans contact\\xa0  bientôt un plafond à 50\\xa0euros   ///bojxj0orny',\n",
       " 'question  le plafond de paiement sans contact a-t-il été augmenté (30€ max de base) ?',\n",
       " '🇫🇷 pandémie de #coronavirus   les banques envisagent de passer le plafond du paiement sans contact de 30 à 50 euros pour limiter l utilisation de la «\\xa0monnaie liquide\\xa0» et ainsi lutter contre la transmission du #covid_19  (bfmtv) #confinementjour25',\n",
       " 'le plafond du paiement sans contact passe à 50 €   ///pcimmyipfx   ///fwif1ddrvg',\n",
       " '[information #utile] 📢 les banques françaises relèvent de 30 € à 50 € le plafond de paiement sans contact par carte bancaire à partir du 11 mai 2020  @economie_gouv   ///z3o3wxil8x',\n",
       " 'la plafond des titres restaurant lui aussi impacté par la crise covid-19 et réhaussé toumme le plafond des cartes sans contact ',\n",
       " 'a partir du 11 mai  le plafond des paiements par cb sans contact passe à 50€ 💳 la modification sur votre carte sera gratuite et se fera automatiquement lors d un paiement avec saisie du code  ou lors d un retrait dans un distributeur automatique de billets    ///j2rb5snor8',\n",
       " 'carte bancaire\\xa0  le plafond du sans contact relevé à 50\\xa0euros dès lundi ?   ///jvgzlkyhtk   ///nl7a9e08gy',\n",
       " 'pourquoi les banques françaises sont-elles réticentes à augmenter le plafond du paiement sans contact ?   ///6hzyip4une via @fr_conversation #cybersécurité',\n",
       " 'paiement sans contact   le plafond passe à 50 euros le 11 mai   ///zk3m7wrsjq',\n",
       " 'paiement sans contact   un nouveau plafond à 50 euros est envisagé mais reste flou   ///fgmndmvqlb',\n",
       " 'le plafond des paiements sans contact va passer de\\xa030 à 50\\xa0euros   ///ffb9ohebfy',\n",
       " '#marseille #plafond le plafond du paiement sans contact passera de 30 a 50 euros le 11 mai   ///pxycdhurjt',\n",
       " 'il faut dire non a l augmentation du plafond de la carte sans contact à 50€ pour une bonne raison c est que plus les banques donneront la possibilité aux utilisateur de faire du paiement sans contact  plus les banques pourront faire disparaître l argent liquide rapidement',\n",
       " 'la crise sanitaire actuelle n est pas étrangère à cette hausse du plafond du #paiement sans contact 💳   ///d7tnadvzaa   ///lthj71bpzl',\n",
       " 'la crise sanitaire actuelle n est pas étrangère à cette hausse du plafond du #paiement sans contact 💳   ///tm8s8e9ux2   ///4qin8m7rqw',\n",
       " 'le plafond de nos cb est maintenant à 50€ en sans contact ??    c est super ! 🎉🎊  vive le paiement sans contact 😂  (sauf si on te vole ta carte) 😂   ///rhl8hgefds',\n",
       " 'invité de #classiquematin sur @radioclassique @philippebrassac directeur général @credit_agricole explique que 30 % des paiements actuellement se font sans contact mais sans changer le plafond on pourrait montrer monter aux 2/3',\n",
       " 'paiement sans contact  les banques envisagent de passer le plafond à 50 euros | via @bfmtv   ///wc9m3tequx']"
      ]
     },
     "execution_count": 43,
     "metadata": {},
     "output_type": "execute_result"
    }
   ],
   "source": [
    "# plafond\n",
    "\n",
    "df_contactless[df_contactless.tweet.str.contains(\"plafond\")].loc[\"2020-04\"].clean_tweet.sample(20).tolist()"
   ]
  },
  {
   "cell_type": "markdown",
   "id": "empirical-program",
   "metadata": {},
   "source": [
    "Pour le plafond, le pic en avril 2020 correspond à la news du passage du plafond à 50€ au début de la crise sanitaire"
   ]
  },
  {
   "cell_type": "code",
   "execution_count": 48,
   "id": "abstract-manor",
   "metadata": {},
   "outputs": [
    {
     "name": "stdout",
     "output_type": "stream",
     "text": [
      "['faut-il avoir peur du paiement sans contact emment limiter les risques de piratage   ///fllcrexkhu…   ///xknna1jxkc', 'paiement sans contact\\xa0  le gouvernement alerté sur le risque de fraude   ///jhe1c3fl4y #banque #cartebancaire   ///ldijqwjm9t', '«\\xa0alerte sur le risque de fraude pour le paiement sans contact\\xa0» — peuples observateurs avant garde togolaise et africaine   ///h7mghblcay via @carolionne89', '#numérique   paiement sans contact\\xa0  le gouvernement alerté sur le risque de fraude   ///rgk3c1oqva', 'paiement sans contact  le gouvernement alerté sur le risque de fraude yonnescaut   ///7lqlzga3sq #important', 'paiement sans contact   le gouvernement alerté sur le risque de fraude - politique - numerama   ///vueayysjx3', 'paiement sans contact   le gouvernement alerté sur le risque de fraude via @numerama   ///qbktioyqos', '#paiement sans contact   le gouvernement alerté sur le risque de fraude #nfc #mobile #sécurité    ///6fv71n1l6g', '@numerama le taux de fraude en 2017 était de 0 020% sur la paiement sans contact en france   ///plkq9ohhwf (cf p  43) @foxteh', '@foxteh @ericfreyss @numerama la fraude la plus répandue en sans contact est l aspiration du pan &amp; cvv2 puis leur utilisation en vente à distance  curieusement cela ne laisse aucune trace (carte&amp;informatique)  n est soumis à aucun plafond et n est jamais pris en compte dans les chiffres de fraude nfc   ']\n",
      "['carte sans contact   les vrais risques de la fraude sur la plage   ///emxjhe84ar', '#arnaque de l été sur les plages  la fraude à la #cartebancaire sans contact   équipés d un terminal de paiement  ils parviennent à\\xa0se servir sur votre compte en #banque\\xa0via votre carte bancaire sans contact rangée dans votre sac \\xa0    ///9vshpkkb8l', 'carte sans contact   les vrais risques de la fraude sur la plage   ///favj0cwtlu via @cbanque', 'arnaque   gare à la fraude au paiement sans contact sur la plage   ///ymyrstgdmj   ///jkl9fijmkj', 'carte sans contact   les vrais risques de la fraude sur la plage   ///a8vnuhjpgg', 'plage\\xa0  faut-il avoir peur de la fraude à la carte bancaire sans contact\\xa0?   ///ygsrq0yjbe via @lepoint et tout le monde paye la fraude via les commissions bancaires   ', '#revuedepresse carte sans contact   les vrais risques de la fraude sur la plage   ///c0ap7xc9n1', 'carte sans contact   les vrais risques de la fraude sur la plage   ///xbkmmemnlu   ///yjtfbchkaq', 'faut-il avoir peur de la fraude à la carte sans contact sur les pages ? la réponse est non au regard des plaintes observées     et si vous la perdez  l enjeu est alors reduit à 100€ max   ///k3tpqmwwt7', 'les risques de fraude à la carte sans contact sur la plage font beaucoup parler  un point très factuel de @cbanque pour dégonfler  un peu tout ça   ///pkyibi1thi']\n",
      "['“@01net  faut-il avoir peur des fraudes aux paiements sans contact ?  ///reokumeyhn”', '🛡💳  faut-il avoir peur des fraudes aux paiements sans contact ? @nono2357 vous en dit plus dans son interview pour @01net!   ///koixqp4cng #ds2020   ///k6frwpmnnh', 'faut-il avoir peur des fraudes aux paiements sans contact ?   ///2cobd6ehak   ///tkjmbexl99', 'faut-il avoir peur des fraudes aux paiements sans contact ?   ///kbswku3ugj', 'faut-il avoir peur des fraudes aux paiements sans contact ?   ///nkqmz2zvrm via @01net', 'les deux jeunes étudiants français  maxime smolinski et victor foucré  révolutionnent le paiement sans contact avec la carte anti-piratage absolut secure 💳 une solution simple et efficace contre les fraudes  présentée hier soir dans le jt de 20h sur @tf1  et par @le_parisien👏   ///sfrqmz0imj', '“@01net  faut-il avoir peur des fraudes aux paiements sans contact ?   ///reokumeyhn”', 'faut-il avoir peur des fraudes aux paiements sans contact ? je réponds dans @01net     ///hr6vcbea6s #paiement #nfc #cb', 'faut-il avoir peur des fraudes aux paiements sans contact ? via @01net #contactless #epayment #ebank #banking @guillaumefin @marcroyer1607    ///rdjcxowcze', 'faut-il avoir peur des fraudes aux paiements sans contact ?   ///kbswku3ugj']\n"
     ]
    }
   ],
   "source": [
    "# fraude\n",
    "\n",
    "print(df_contactless[df_contactless.tweet.str.contains(\"peur | fraude\")].loc[\"2019-04\"].clean_tweet.sample(10).tolist())\n",
    "\n",
    "print(df_contactless[df_contactless.tweet.str.contains(\"peur | fraude\")].loc[\"2019-08\"].clean_tweet.sample(10).tolist())\n",
    "\n",
    "print(df_contactless[df_contactless.tweet.str.contains(\"peur | fraude\")].loc[\"2020-01\"].clean_tweet.sample(10).tolist())\n"
   ]
  },
  {
   "cell_type": "markdown",
   "id": "prostate-discussion",
   "metadata": {},
   "source": [
    "Pour la peur de la fraude, des séries d'articles sur les fraudes au sans contact en avril 2019 (prise de conscience de ce type de fraude), août 2019 (sur les plages, \"l'arnaque de l'été\") et janvier 2020"
   ]
  },
  {
   "cell_type": "code",
   "execution_count": 52,
   "id": "reduced-topic",
   "metadata": {},
   "outputs": [
    {
     "data": {
      "text/plain": [
       "['#bonplan    ///ugyy6xswyf  sumup air terminal de paiement  tpv  aucuns frais mensuels  bluetooth  acceptez toutes les cartes bancaires  nfc  apple pay  google pay   ///sakmmbejw0',\n",
       " '#bonplan    ///kndek3i7oj  sumup air terminal de paiement  tpv  aucuns frais mensuels  bluetooth  acceptez toutes les cartes bancaires  nfc  apple pay  google pay   ///riqugljyqa',\n",
       " '#bonplan    ///wthd2lgp2a  sumup air terminal de paiement  tpv  aucuns frais mensuels  bluetooth  acceptez toutes les cartes bancaires  nfc  apple pay  google pay   ///a0amue0hwn',\n",
       " 'sumup air terminal de paiement  tpv  aucuns frais mensuels  bluetooth  acceptez toutes les cartes bancaires  nfc  apple pay  google pay   9 99€  #soldes ➡   ///bwtmg4kob7 ⬅   ///xflkmmswbt',\n",
       " '#bonplan    ///wghj5rakot  sumup air terminal de paiement  tpv  aucuns frais mensuels  bluetooth  acceptez toutes les cartes bancaires  nfc  apple pay  google pay   ///zbawjgez4b',\n",
       " '#bonplan    ///iw9f5mk2zo  sumup air terminal de paiement  tpv  aucuns frais mensuels  bluetooth  acceptez toutes les cartes bancaires  nfc  apple pay  google pay   ///mwh7ofgtnw',\n",
       " '#bonplan    ///js3llpl5ht  sumup air terminal de paiement  tpv  aucuns frais mensuels  bluetooth  acceptez toutes les cartes bancaires  nfc  apple pay  google pay   ///fuhc9xmed2',\n",
       " '#bonplan    ///iw9f5mk2zo  sumup air terminal de paiement  tpv  aucuns frais mensuels  bluetooth  acceptez toutes les cartes bancaires  nfc  apple pay  google pay   ///mwh7ofgtnw',\n",
       " '#bonplan    ///wghj5rakot  sumup air terminal de paiement  tpv  aucuns frais mensuels  bluetooth  acceptez toutes les cartes bancaires  nfc  apple pay  google pay   ///zbawjgez4b',\n",
       " '@thenudges d acc donc ça reste vraiment que sur les retraits  tant que c est du paiement en ligne  par terminal ou sans contact il n y a jamais de frais peu importe où ?',\n",
       " 'je peux me déplacer en ile-de-france pour un échange en main propre  pour ceux qui préfèrent payer en espèces et sans les frais du site ticketswape (environ 30€/billet)  il est possible également de faire un paiement via paypal ou lydia si vous préférez éviter les frais du site ',\n",
       " '#bonplan    ///hdquyz1rcc  sumup air terminal de paiement  tpv  aucuns frais mensuels  bluetooth  acceptez toutes les cartes bancaires  nfc  apple pay  google pay   ///m7krwuhkr7',\n",
       " '#bonplan    ///ff1qc9x1hj  sumup air terminal de paiement  tpv  aucuns frais mensuels  bluetooth  acceptez toutes les cartes bancaires  nfc  apple pay  google pay   ///yz6cxll4s2',\n",
       " '#bonplan    ///hdquyz1rcc  sumup air terminal de paiement  tpv  aucuns frais mensuels  bluetooth  acceptez toutes les cartes bancaires  nfc  apple pay  google pay   ///m7krwuhkr7',\n",
       " '#bonplan    ///u4gkrcumjb  sumup air terminal de paiement  tpv  aucuns frais mensuels  bluetooth  acceptez toutes les cartes bancaires  nfc  apple pay  google pay   ///dgvcv73fsn',\n",
       " '#bonplan    ///kwheia5wng  sumup air terminal de paiement  tpv  aucuns frais mensuels  bluetooth  acceptez toutes les cartes bancaires  nfc  apple pay  google pay   ///esvtvodz5f',\n",
       " '#bonplan    ///x8bp6tb2sj  sumup air terminal de paiement  tpv  aucuns frais mensuels  bluetooth  acceptez toutes les cartes bancaires  nfc  apple pay  google pay   ///ok8wn8uvz9',\n",
       " '#bonplan    ///x8bp6tb2sj  sumup air terminal de paiement  tpv  aucuns frais mensuels  bluetooth  acceptez toutes les cartes bancaires  nfc  apple pay  google pay   ///ok8wn8uvz9',\n",
       " '#bonplan    ///ymykfmxo2o  sumup air terminal de paiement  tpv  aucuns frais mensuels  bluetooth  acceptez toutes les cartes bancaires  nfc  apple pay  google pay   ///vu3p0raaze',\n",
       " '#bonplan    ///zodfiiua0o  sumup air terminal de paiement  tpv  aucuns frais mensuels  bluetooth  acceptez toutes les cartes bancaires  nfc  apple pay  google pay   ///ttm241ctt2']"
      ]
     },
     "execution_count": 52,
     "metadata": {},
     "output_type": "execute_result"
    }
   ],
   "source": [
    "# frais\n",
    "\n",
    "df_contactless[df_contactless.tweet.str.contains(\"frais\")].loc[\"2020-01\"].clean_tweet.sample(20).tolist()"
   ]
  },
  {
   "cell_type": "markdown",
   "id": "absent-clark",
   "metadata": {},
   "source": [
    "Pour les frais bancaires, un pic de tweets en janvier 2020 sur le terminal de paiement SumUp Air (une fintech). Soit il venait de sortir, soit ce sont des bots qui font de la pub"
   ]
  }
 ],
 "metadata": {
  "kernelspec": {
   "display_name": "Python 3",
   "language": "python",
   "name": "python3"
  },
  "language_info": {
   "codemirror_mode": {
    "name": "ipython",
    "version": 3
   },
   "file_extension": ".py",
   "mimetype": "text/x-python",
   "name": "python",
   "nbconvert_exporter": "python",
   "pygments_lexer": "ipython3",
   "version": "3.8.5"
  }
 },
 "nbformat": 4,
 "nbformat_minor": 5
}
