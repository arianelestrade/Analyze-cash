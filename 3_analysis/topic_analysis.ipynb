{
 "cells": [
  {
   "cell_type": "markdown",
   "id": "equal-transportation",
   "metadata": {},
   "source": [
    "# NLP Analysis : Topic analysis et grammatical parsing"
   ]
  },
  {
   "cell_type": "markdown",
   "id": "sought-headline",
   "metadata": {},
   "source": [
    "Objectif : produire une analyse par topic --> résultats non concluants, aucun réel pattern ou info pertinente ne semble pouvoir être extraite de ces topics. Le texte des tweets est à priori trop court et les tweets se ressemblent trop pour que des topics émergent. En effet, les tweets traitent de la question des moyens de paiement, une thématique déà très précise. "
   ]
  },
  {
   "cell_type": "code",
   "execution_count": 1,
   "id": "juvenile-graphics",
   "metadata": {},
   "outputs": [],
   "source": [
    "from functools import reduce\n",
    "import random\n",
    "import re\n",
    "import time\n",
    "from gensim.utils import deaccent\n",
    "import numpy as np\n",
    "import pandas as pd\n",
    "import tqdm\n",
    "import matplotlib.pyplot as plt\n",
    "pd.options.display.max_colwidth = None\n",
    "pd.options.display.max_columns = 30\n",
    "#from wordcloud import WordCloud\n",
    "import wordcloud\n",
    "from nltk.corpus import stopwords\n",
    "import seaborn as sns\n",
    "import os\n",
    "import _pickle as cPickle\n",
    "\n",
    "#pour topic analysis \n",
    "from pprint import pprint\n",
    "\n",
    "# Gensim\n",
    "import gensim\n",
    "import gensim.corpora as corpora\n",
    "from gensim.utils import simple_preprocess\n",
    "from gensim.models import CoherenceModel\n",
    "\n",
    "# spacy for lemmatization\n",
    "import spacy\n",
    "\n",
    "# Plotting tools\n",
    "import pyLDAvis\n",
    "import pyLDAvis.gensim  # don't skip this\n",
    "import matplotlib.pyplot as plt\n",
    "%matplotlib inline"
   ]
  },
  {
   "cell_type": "code",
   "execution_count": 2,
   "id": "equipped-province",
   "metadata": {},
   "outputs": [
    {
     "name": "stderr",
     "output_type": "stream",
     "text": [
      "/usr/local/lib/python3.8/dist-packages/ipykernel/ipkernel.py:283: DeprecationWarning: `should_run_async` will not call `transform_cell` automatically in the future. Please pass the result to `transformed_cell` argument and any exception that happen during thetransform in `preprocessing_exc_tuple` in IPython 7.17 and above.\n",
      "  and should_run_async(code)\n"
     ]
    }
   ],
   "source": [
    "#fonctions utilitaires \n",
    "\n",
    "def query_to_words(query):\n",
    "    query = str.lower(query)\n",
    "    query = query.replace(\"(\", \"\").replace(\")\", \"\")\n",
    "    query = query.replace('\"', '')\n",
    "    splitted = re.split(pattern=\" or | and \", string=query)\n",
    "    splitted = [word.strip() for word in splitted]\n",
    "    return splitted\n",
    "\n",
    "def remove_stopwords(texts, stopwords):\n",
    "    return [[word for word in simple_preprocess(str(doc)) if word not in stopwords] for doc in texts]\n",
    "\n",
    "def make_bigrams(texts):\n",
    "    bigram = gensim.models.Phrases(data_words, min_count=3, threshold=5) # higher threshold fewer phrases.\n",
    "    bigram_mod = gensim.models.phrases.Phraser(bigram)\n",
    "    return [bigram_mod[doc] for doc in texts]\n",
    "\n",
    "def sent_to_words(sentences):\n",
    "    for sentence in sentences:\n",
    "        yield(gensim.utils.simple_preprocess(str(sentence), deacc=True))  # deacc=True removes punctuations\n",
    "        \n",
    "\n",
    "def lemmatization(nlp, texts, allowed_postags=['NOUN', 'ADJ', 'VERB', 'ADV']):\n",
    "    \"\"\"https://spacy.io/api/annotation\"\"\"\n",
    "    texts_out = []\n",
    "    for sent in texts:\n",
    "        doc = nlp(\" \".join(sent)) \n",
    "        texts_out.append([token.lemma_ for token in doc if token.pos_ in allowed_postags])\n",
    "    return texts_out\n",
    "\n",
    "def query_to_words(query):\n",
    "    query = query.replace(\"(\", \"\").replace(\")\", \"\")\n",
    "    query = query.replace('\"', '')\n",
    "    splitted = re.split(pattern=\"OR|AND\", string=query)\n",
    "    splitted = [word.strip() for word in splitted]\n",
    "    return splitted\n",
    "\n",
    "def get_dep_info(tweet, obj_only=False):\n",
    "    lst = []\n",
    "    doc = nlp(tweet)\n",
    "    \n",
    "    for token in (token for token in doc if token.text in WORDS_QUERY):\n",
    "        if token.dep_ == 'obj':\n",
    "            lst += [{\"word\": token.text, \"parent\": token.head.text, 'enfant': [child.text for child in token.children]}]\n",
    "    \n",
    "    return lst"
   ]
  },
  {
   "cell_type": "code",
   "execution_count": 3,
   "id": "sapphire-thailand",
   "metadata": {},
   "outputs": [
    {
     "name": "stderr",
     "output_type": "stream",
     "text": [
      "/usr/local/lib/python3.8/dist-packages/ipykernel/ipkernel.py:283: DeprecationWarning: `should_run_async` will not call `transform_cell` automatically in the future. Please pass the result to `transformed_cell` argument and any exception that happen during thetransform in `preprocessing_exc_tuple` in IPython 7.17 and above.\n",
      "  and should_run_async(code)\n"
     ]
    },
    {
     "name": "stdout",
     "output_type": "stream",
     "text": [
      "174540\n"
     ]
    }
   ],
   "source": [
    "#Import data\n",
    "df_cash = pd.read_pickle(f\"/home/cash/output/cleaned_queries/with_geoloc/query_fr_cash_cleaned_geoloc.pickle\")\n",
    "df_cash[\"datetime\"] = pd.to_datetime(df_cash[\"datetime\"])\n",
    "df_cash[\"created_at\"] = df_cash[\"datetime\"]\n",
    "df_cash.set_index(\"datetime\", inplace=True)\n",
    "\n",
    "df_cb = pd.read_pickle(f\"/home/cash/output/cleaned_queries/with_geoloc/query_fr_cb_cleaned_geoloc.pickle\")\n",
    "df_cb[\"datetime\"] = pd.to_datetime(df_cb[\"datetime\"])\n",
    "df_cb[\"created_at\"] = df_cb[\"datetime\"]\n",
    "df_cb.set_index(\"datetime\", inplace=True)\n",
    "\n",
    "df =  pd.concat([df_cash, df_cb], ignore_index = True)\n",
    "print(len(df))\n",
    "df = df.drop_duplicates()"
   ]
  },
  {
   "cell_type": "markdown",
   "id": "forbidden-chair",
   "metadata": {},
   "source": [
    "### 1. Topic analysis"
   ]
  },
  {
   "cell_type": "code",
   "execution_count": 4,
   "id": "static-hamburg",
   "metadata": {},
   "outputs": [
    {
     "name": "stderr",
     "output_type": "stream",
     "text": [
      "/usr/local/lib/python3.8/dist-packages/ipykernel/ipkernel.py:283: DeprecationWarning: `should_run_async` will not call `transform_cell` automatically in the future. Please pass the result to `transformed_cell` argument and any exception that happen during thetransform in `preprocessing_exc_tuple` in IPython 7.17 and above.\n",
      "  and should_run_async(code)\n"
     ]
    }
   ],
   "source": [
    "# Importe et complète la liste de stopwords français\n",
    "stop_words = set(stopwords.words('french'))\n",
    "more_french_stopwords = [\n",
    "    \"plus\", \"donc\", \"juste\", \"aussi\", \"toujours\", \"car\", \"rien\", \"aucun\", \"encore\", \"déjà\", \"peu\", \"enfin\", \"ni\", \n",
    "    \"parce\", \"depuis\", \"jamais\", \"après\", \"autre\", \"non\",\"oui\", \"si\", \"trop\", \"là\", \"avant\", \"comme\",\"chez\", \"quand\", \"personne\", \n",
    "    \"ça\", \"ca\",\"meme\", \"memes\",\"mem\", \"quoi\", \"ou\", \"où\",\"comment\",\"moins\",\"tre\",\"trop\",\"alors\",\"donc\", \"lors\", \"coup\", \n",
    "    \"ici\",\"amp\",\"bientot\", \"bientôt\",\n",
    "    \"faire\",\"fais\", \"fait\", \"faut\",\"va\", \"avoir\", \"dit\", \"dire\", \"peut\", \"peux\",\"etre\", \"être\",\n",
    "    \"cette\", \"ceux\",\"cettes\",\"cela\", \"leurs\"\n",
    "]\n",
    "stop_words.update(more_french_stopwords)\n",
    "\n",
    "# Importe un modèle LDA\n",
    "nlp = spacy.load(\"fr_core_news_sm\")"
   ]
  },
  {
   "cell_type": "code",
   "execution_count": 7,
   "id": "incorrect-publisher",
   "metadata": {},
   "outputs": [
    {
     "name": "stderr",
     "output_type": "stream",
     "text": [
      "/usr/local/lib/python3.8/dist-packages/ipykernel/ipkernel.py:283: DeprecationWarning: `should_run_async` will not call `transform_cell` automatically in the future. Please pass the result to `transformed_cell` argument and any exception that happen during thetransform in `preprocessing_exc_tuple` in IPython 7.17 and above.\n",
      "  and should_run_async(code)\n"
     ]
    }
   ],
   "source": [
    "# Pré-traite le texte pour appliquer LDA\n",
    "\n",
    "data_words = df.clean_tweet.values.tolist()\n",
    "\n",
    "if (os.path.isfile(\"/home/cash/output/topic_analysis/data_lemmatized_df_fr.pickle\")==False): \n",
    "    \n",
    "    data_words_liste = list(sent_to_words(data_words))\n",
    "    data_words_nostops = remove_stopwords(data_words_liste, stop_words)\n",
    "    data_words_bigrams = make_bigrams(data_words_nostops)\n",
    "    data_lemmatized = lemmatization(nlp,data_words_bigrams, allowed_postags=['NOUN', 'ADJ', 'VERB', 'ADV'])\n",
    "    \n",
    "    with open(r\"/home/cash/output/topic_analysis/data_lemmatized_df_fr.pickle\", \"wb\") as output_file:\n",
    "        cPickle.dump(data_lemmatized, output_file)\n",
    "    \n",
    "else : \n",
    "    with open(r\"/home/cash/output/topic_analysis/data_lemmatized_df_fr.pickle\", \"rb\") as input_file:\n",
    "        data_lemmatized = cPickle.load(input_file)\n"
   ]
  },
  {
   "cell_type": "code",
   "execution_count": 8,
   "id": "complex-geneva",
   "metadata": {},
   "outputs": [
    {
     "name": "stderr",
     "output_type": "stream",
     "text": [
      "/usr/local/lib/python3.8/dist-packages/ipykernel/ipkernel.py:283: DeprecationWarning: `should_run_async` will not call `transform_cell` automatically in the future. Please pass the result to `transformed_cell` argument and any exception that happen during thetransform in `preprocessing_exc_tuple` in IPython 7.17 and above.\n",
      "  and should_run_async(code)\n"
     ]
    },
    {
     "name": "stdout",
     "output_type": "stream",
     "text": [
      "[[(0, 1), (1, 1), (2, 1), (3, 1), (4, 4), (5, 1), (6, 1), (7, 1), (8, 1), (9, 1), (10, 1), (11, 1)]]\n"
     ]
    }
   ],
   "source": [
    "# Create Dictionary\n",
    "#id2word = corpora.Dictionary(data_words_bigrams)\n",
    "id2word = corpora.Dictionary(data_lemmatized)\n",
    "\n",
    "# Create Corpus\n",
    "#texts = data_words_bigrams\n",
    "texts = data_lemmatized\n",
    "\n",
    "# Term Document Frequency\n",
    "corpus = [id2word.doc2bow(text) for text in texts]\n",
    "print(corpus[:1])"
   ]
  },
  {
   "cell_type": "code",
   "execution_count": 9,
   "id": "illegal-child",
   "metadata": {},
   "outputs": [
    {
     "name": "stderr",
     "output_type": "stream",
     "text": [
      "/usr/local/lib/python3.8/dist-packages/ipykernel/ipkernel.py:283: DeprecationWarning: `should_run_async` will not call `transform_cell` automatically in the future. Please pass the result to `transformed_cell` argument and any exception that happen during thetransform in `preprocessing_exc_tuple` in IPython 7.17 and above.\n",
      "  and should_run_async(code)\n"
     ]
    }
   ],
   "source": [
    "# Build LDA model\n",
    "if (os.path.isfile('/home/cash/output/topic_analysis/lda_8topics_df_fr.model')==False): \n",
    "\n",
    "    lda_model = gensim.models.ldamodel.LdaModel(corpus=corpus, \n",
    "                                                id2word=id2word,\n",
    "                                                num_topics=8, \n",
    "                                                random_state=100,\n",
    "                                                update_every=1,\n",
    "                                                chunksize=100,\n",
    "                                                passes=10,\n",
    "                                                alpha='auto',\n",
    "                                                per_word_topics=True)\n",
    "                   \n",
    "    lda_model.save('/home/cash/output/topic_analysis/lda_8topics_df_fr.model')\n",
    "    \n",
    "else : \n",
    "    lda_model =  gensim.models.LdaModel.load('/home/cash/output/topic_analysis/lda_8topics_df_fr.model')"
   ]
  },
  {
   "cell_type": "markdown",
   "id": "chemical-mailman",
   "metadata": {},
   "source": [
    "Visualiser ce que donne le modèle LDA"
   ]
  },
  {
   "cell_type": "code",
   "execution_count": 10,
   "id": "intense-drill",
   "metadata": {},
   "outputs": [
    {
     "name": "stdout",
     "output_type": "stream",
     "text": [
      "[(0,\n",
      "  '0.057*\"compte\" + 0.047*\"euro\" + 0.030*\"merci\" + 0.024*\"vouloir\" + '\n",
      "  '0.024*\"an\" + 0.023*\"retirer\" + 0.019*\"banqu\" + 0.015*\"virement\" + '\n",
      "  '0.015*\"point\" + 0.015*\"depenser\" + 0.014*\"mai\" + 0.013*\"cadeau\" + '\n",
      "  '0.013*\"pourquoi\" + 0.012*\"apple\" + 0.011*\"marche\" + 0.011*\"dernier\" + '\n",
      "  '0.011*\"fnac\" + 0.010*\"chose\" + 0.009*\"fintech\" + 0.009*\"caisse\"'),\n",
      " (1,\n",
      "  '0.052*\"contact\" + 0.045*\"mobile\" + 0.036*\"cb\" + 0.031*\"tout\" + '\n",
      "  '0.022*\"passer\" + 0.022*\"mois\" + 0.019*\"argent\" + 0.018*\"devoir\" + '\n",
      "  '0.015*\"client\" + 0.013*\"premier\" + 0.012*\"code\" + 0.011*\"banque\" + '\n",
      "  '0.011*\"million\" + 0.011*\"tre\" + 0.010*\"paypal\" + 0.009*\"faire\" + '\n",
      "  '0.009*\"attendre\" + 0.008*\"journe\" + 0.006*\"autre\" + 0.006*\"covid\"'),\n",
      " (2,\n",
      "  '0.081*\"depense\" + 0.064*\"payer\" + 0.022*\"bien\" + 0.022*\"bleu\" + '\n",
      "  '0.021*\"aller\" + 0.017*\"apre\" + 0.017*\"fois\" + 0.017*\"eter\" + 0.017*\"voir\" + '\n",
      "  '0.014*\"prix\" + 0.013*\"mettre\" + 0.010*\"demande\" + 0.009*\"jusqu\" + '\n",
      "  '0.009*\"semaine\" + 0.008*\"credit\" + 0.008*\"temps\" + 0.007*\"place\" + '\n",
      "  '0.007*\"pay\" + 0.007*\"moment\" + 0.007*\"truc\"'),\n",
      " (3,\n",
      "  '0.031*\"aujourd\" + 0.030*\"fin\" + 0.030*\"hier\" + 0.025*\"bel\" + 0.024*\"mieux\" '\n",
      "  '+ 0.019*\"gens\" + 0.018*\"assez\" + 0.017*\"vite\" + 0.016*\"donnee\" + '\n",
      "  '0.013*\"vol\" + 0.013*\"noel\" + 0.012*\"accord\" + 0.012*\"mort\" + 0.012*\"parent\" '\n",
      "  '+ 0.011*\"travail\" + 0.011*\"facture\" + 0.011*\"essayer\" + 0.011*\"ouvert\" + '\n",
      "  '0.011*\"agence\" + 0.010*\"budget\"'),\n",
      " (4,\n",
      "  '0.035*\"frais\" + 0.023*\"grand\" + 0.018*\"sortir\" + 0.018*\"googl\" + '\n",
      "  '0.018*\"lieu\" + 0.017*\"mond\" + 0.017*\"trouve\" + 0.016*\"chinois\" + '\n",
      "  '0.015*\"immediatement\" + 0.013*\"obtenir\" + 0.012*\"ainsi\" + 0.011*\"hello\" + '\n",
      "  '0.010*\"propose\" + 0.010*\"pass\" + 0.010*\"oublier\" + 0.010*\"consommateur\" + '\n",
      "  '0.009*\"etranger\" + 0.009*\"arger\" + 0.009*\"assurance\" + 0.008*\"ancien\"'),\n",
      " (5,\n",
      "  '0.051*\"acheter\" + 0.036*\"achat\" + 0.030*\"pouvoir\" + 0.025*\"bon\" + '\n",
      "  '0.018*\"prendre\" + 0.017*\"nouveau\" + 0.012*\"site\" + 0.011*\"permettre\" + '\n",
      "  '0.009*\"petit\" + 0.009*\"vraiment\" + 0.007*\"ligne\" + 0.007*\"produit\" + '\n",
      "  '0.007*\"internet\" + 0.007*\"venir\" + 0.006*\"vien\" + 0.006*\"command\" + '\n",
      "  '0.006*\"regler\" + 0.006*\"partir\" + 0.005*\"question\" + 0.005*\"besoin\"'),\n",
      " (6,\n",
      "  '0.243*\"carte\" + 0.112*\"paiement\" + 0.035*\"bancaire\" + 0.027*\"reglemer\" + '\n",
      "  '0.020*\"bonjour\" + 0.019*\"reglement\" + 0.018*\"cheque\" + 0.013*\"service\" + '\n",
      "  '0.011*\"savoir\" + 0.009*\"possible\" + 0.009*\"utiliser\" + 0.008*\"moyen\" + '\n",
      "  '0.007*\"seul\" + 0.007*\"ticket\" + 0.006*\"visa\" + 0.005*\"pense\" + '\n",
      "  '0.005*\"telephon\" + 0.005*\"montant\" + 0.005*\"solution\" + 0.004*\"info\"'),\n",
      " (7,\n",
      "  '0.109*\"jour\" + 0.061*\"jeu\" + 0.031*\"amazon\" + 0.029*\"application\" + '\n",
      "  '0.028*\"plafond\" + 0.026*\"recu\" + 0.025*\"effectuer\" + 0.017*\"gt\" + '\n",
      "  '0.016*\"tel\" + 0.016*\"afin\" + 0.016*\"remboursement\" + 0.013*\"plaisir\" + '\n",
      "  '0.013*\"magasin\" + 0.012*\"message\" + 0.012*\"youtube\" + 0.010*\"faite\" + '\n",
      "  '0.010*\"tour\" + 0.009*\"smartphone\" + 0.009*\"general\" + 0.009*\"effectue\"')]\n"
     ]
    },
    {
     "name": "stderr",
     "output_type": "stream",
     "text": [
      "/usr/local/lib/python3.8/dist-packages/ipykernel/ipkernel.py:283: DeprecationWarning: `should_run_async` will not call `transform_cell` automatically in the future. Please pass the result to `transformed_cell` argument and any exception that happen during thetransform in `preprocessing_exc_tuple` in IPython 7.17 and above.\n",
      "  and should_run_async(code)\n"
     ]
    }
   ],
   "source": [
    "# Décrire les topics obtenus avec les mots les plus fréquents\n",
    "pprint(lda_model.print_topics(num_words=20)) #num_topics=20, \n",
    "doc_lda = lda_model[corpus]"
   ]
  },
  {
   "cell_type": "code",
   "execution_count": 11,
   "id": "parental-telescope",
   "metadata": {},
   "outputs": [
    {
     "name": "stderr",
     "output_type": "stream",
     "text": [
      "/usr/local/lib/python3.8/dist-packages/ipykernel/ipkernel.py:283: DeprecationWarning: `should_run_async` will not call `transform_cell` automatically in the future. Please pass the result to `transformed_cell` argument and any exception that happen during thetransform in `preprocessing_exc_tuple` in IPython 7.17 and above.\n",
      "  and should_run_async(code)\n"
     ]
    }
   ],
   "source": [
    "# Identifier les tweets selon leur topic\n",
    "from operator import itemgetter\n",
    "res= pd.DataFrame(columns=['text','topic','proba'])\n",
    "seuil = 0.2\n",
    "for index in range(4998) :\n",
    "    proba=lda_model.get_document_topics(corpus[index])\n",
    "    text = data_words[index]\n",
    "    res_interm = [topic for topic in proba if topic[1]>=seuil]\n",
    "    if not res_interm:\n",
    "        a=\"empty\"\n",
    "    else : \n",
    "        res = res.append(\n",
    "            {\"text\": text,\n",
    "             \"topic\": max(res_interm,key=itemgetter(1))[0], \n",
    "             \"proba\": max(res_interm,key=itemgetter(1))[1]\n",
    "            }, ignore_index=True)"
   ]
  },
  {
   "cell_type": "code",
   "execution_count": 12,
   "id": "satisfactory-slovak",
   "metadata": {},
   "outputs": [
    {
     "name": "stderr",
     "output_type": "stream",
     "text": [
      "/usr/local/lib/python3.8/dist-packages/ipykernel/ipkernel.py:283: DeprecationWarning: `should_run_async` will not call `transform_cell` automatically in the future. Please pass the result to `transformed_cell` argument and any exception that happen during thetransform in `preprocessing_exc_tuple` in IPython 7.17 and above.\n",
      "  and should_run_async(code)\n"
     ]
    },
    {
     "data": {
      "text/html": [
       "<div>\n",
       "<style scoped>\n",
       "    .dataframe tbody tr th:only-of-type {\n",
       "        vertical-align: middle;\n",
       "    }\n",
       "\n",
       "    .dataframe tbody tr th {\n",
       "        vertical-align: top;\n",
       "    }\n",
       "\n",
       "    .dataframe thead th {\n",
       "        text-align: right;\n",
       "    }\n",
       "</style>\n",
       "<table border=\"1\" class=\"dataframe\">\n",
       "  <thead>\n",
       "    <tr style=\"text-align: right;\">\n",
       "      <th></th>\n",
       "      <th>text</th>\n",
       "      <th>topic</th>\n",
       "      <th>proba</th>\n",
       "    </tr>\n",
       "  </thead>\n",
       "  <tbody>\n",
       "    <tr>\n",
       "      <th>4838</th>\n",
       "      <td>@braindegeek et certains restaurants à paris non pas le bon appareil pour accepter les visa étrangères alors ils demandent des espèces (comprendre retirer dans un guichet)  ça va faire mal la psd2 empagnie pour eux</td>\n",
       "      <td>6</td>\n",
       "      <td>0.274842</td>\n",
       "    </tr>\n",
       "    <tr>\n",
       "      <th>4922</th>\n",
       "      <td>je rétorque   \"nan je n ai que ma carte sur moi    \"  il me regarde sévère  et dans le plus grand des calmes  me sort   \"dis moi  crois tu que ceci est une excuse pour ne pas donner de l argent ? il y a des distributeur ici tu peut allez me retirer des billets vas y !\"  whaaaat??   ///1acfykis4p</td>\n",
       "      <td>6</td>\n",
       "      <td>0.220253</td>\n",
       "    </tr>\n",
       "    <tr>\n",
       "      <th>4710</th>\n",
       "      <td>👀 une permanente de cheveux très mathématiques ! pour débuter notre série #afficheshistoriquesbp  voici cette affiche des années 70 faisant la promotion d intercarte @banquepopulaire 💳 la première carte de paiement et de retrait à l international !   ///3keqtku0yh</td>\n",
       "      <td>6</td>\n",
       "      <td>0.229621</td>\n",
       "    </tr>\n",
       "    <tr>\n",
       "      <th>3557</th>\n",
       "      <td>la relation client en boutique  c est + ce que c était  avant   \"bonjour monsieur roybet   \" actuellement   \"c est à qui le tour ?     vous avez la carte de fidélité ?     paiement sans contact ?      on prend pas les tickets resto / on rend pas la monnaie ! #relationclient #shop</td>\n",
       "      <td>6</td>\n",
       "      <td>0.245783</td>\n",
       "    </tr>\n",
       "    <tr>\n",
       "      <th>3499</th>\n",
       "      <td>@rmvrdr je sais pas si il n y a que moi mais quand je paye en carte ou autre j ai pas l impression de payer  le cash te permet aussi d avoir une limite physique boudgetaire  j ai un billet de 50€ pour les courses par exemple</td>\n",
       "      <td>6</td>\n",
       "      <td>0.250575</td>\n",
       "    </tr>\n",
       "    <tr>\n",
       "      <th>...</th>\n",
       "      <td>...</td>\n",
       "      <td>...</td>\n",
       "      <td>...</td>\n",
       "    </tr>\n",
       "    <tr>\n",
       "      <th>2204</th>\n",
       "      <td>cartes bancaires  chèques  espèces   quels moyens de paiement de vos clients êtes-vous obligés d accepter ? |…   ///osyk41xwss</td>\n",
       "      <td>6</td>\n",
       "      <td>0.334970</td>\n",
       "    </tr>\n",
       "    <tr>\n",
       "      <th>2210</th>\n",
       "      <td>🤩🤩désormais sur   ///wpsmixldjf vous pouvez régler en espèces  par ticket resto  chèques vacances   et chèque kdo mon shopping calais 😉 #hovercraft #lovewelsh #livraison #clickandcollect   ///jznp43pomu</td>\n",
       "      <td>6</td>\n",
       "      <td>0.305429</td>\n",
       "    </tr>\n",
       "    <tr>\n",
       "      <th>2211</th>\n",
       "      <td>hier soir je vais au bar et le serveur nous dit que c est paiement uniquement en espèce pcq son tpe est en panne et pendant la soirée une copine se fait voler son sac  c est pas il nous dit « bon avec toutes vos galères je peux vous laisser payer en cb » et il sort son tpe</td>\n",
       "      <td>6</td>\n",
       "      <td>0.259951</td>\n",
       "    </tr>\n",
       "    <tr>\n",
       "      <th>2216</th>\n",
       "      <td>aujourd hui on peut payer à peu près tout par carte  via sans contact ou non  y compris les transports en commun  alors va-t-on vers la fin des #espèces?    ///pxlznw3m0o   ///ufe1l0prca</td>\n",
       "      <td>6</td>\n",
       "      <td>0.267393</td>\n",
       "    </tr>\n",
       "    <tr>\n",
       "      <th>4938</th>\n",
       "      <td>souvenez-vous    - l ame finance les chirurgies esthétique et cures thermales des clandestins = fake news ! - ils ont une carte de retrait \"demandeur d asile\" = hoax !  mais on apprend en 2019 que le 1er point pourrait être supprimé  et le 2nd remplacé par une carte de paiement</td>\n",
       "      <td>6</td>\n",
       "      <td>0.253435</td>\n",
       "    </tr>\n",
       "  </tbody>\n",
       "</table>\n",
       "<p>1950 rows × 3 columns</p>\n",
       "</div>"
      ],
      "text/plain": [
       "                                                                                                                                                                                                                                                                                                          text  \\\n",
       "4838                                                                                 @braindegeek et certains restaurants à paris non pas le bon appareil pour accepter les visa étrangères alors ils demandent des espèces (comprendre retirer dans un guichet)  ça va faire mal la psd2 empagnie pour eux      \n",
       "4922  je rétorque   \"nan je n ai que ma carte sur moi    \"  il me regarde sévère  et dans le plus grand des calmes  me sort   \"dis moi  crois tu que ceci est une excuse pour ne pas donner de l argent ? il y a des distributeur ici tu peut allez me retirer des billets vas y !\"  whaaaat??   ///1acfykis4p   \n",
       "4710                                  👀 une permanente de cheveux très mathématiques ! pour débuter notre série #afficheshistoriquesbp  voici cette affiche des années 70 faisant la promotion d intercarte @banquepopulaire 💳 la première carte de paiement et de retrait à l international !   ///3keqtku0yh   \n",
       "3557                  la relation client en boutique  c est + ce que c était  avant   \"bonjour monsieur roybet   \" actuellement   \"c est à qui le tour ?     vous avez la carte de fidélité ?     paiement sans contact ?      on prend pas les tickets resto / on rend pas la monnaie ! #relationclient #shop   \n",
       "3499                                                                          @rmvrdr je sais pas si il n y a que moi mais quand je paye en carte ou autre j ai pas l impression de payer  le cash te permet aussi d avoir une limite physique boudgetaire  j ai un billet de 50€ pour les courses par exemple   \n",
       "...                                                                                                                                                                                                                                                                                                        ...   \n",
       "2204                                                                                                                                                                            cartes bancaires  chèques  espèces   quels moyens de paiement de vos clients êtes-vous obligés d accepter ? |…   ///osyk41xwss   \n",
       "2210                                                                                                🤩🤩désormais sur   ///wpsmixldjf vous pouvez régler en espèces  par ticket resto  chèques vacances   et chèque kdo mon shopping calais 😉 #hovercraft #lovewelsh #livraison #clickandcollect   ///jznp43pomu   \n",
       "2211                         hier soir je vais au bar et le serveur nous dit que c est paiement uniquement en espèce pcq son tpe est en panne et pendant la soirée une copine se fait voler son sac  c est pas il nous dit « bon avec toutes vos galères je peux vous laisser payer en cb » et il sort son tpe   \n",
       "2216                                                                                                                aujourd hui on peut payer à peu près tout par carte  via sans contact ou non  y compris les transports en commun  alors va-t-on vers la fin des #espèces?    ///pxlznw3m0o   ///ufe1l0prca   \n",
       "4938                  souvenez-vous    - l ame finance les chirurgies esthétique et cures thermales des clandestins = fake news ! - ils ont une carte de retrait \"demandeur d asile\" = hoax !  mais on apprend en 2019 que le 1er point pourrait être supprimé  et le 2nd remplacé par une carte de paiement     \n",
       "\n",
       "     topic     proba  \n",
       "4838     6  0.274842  \n",
       "4922     6  0.220253  \n",
       "4710     6  0.229621  \n",
       "3557     6  0.245783  \n",
       "3499     6  0.250575  \n",
       "...    ...       ...  \n",
       "2204     6  0.334970  \n",
       "2210     6  0.305429  \n",
       "2211     6  0.259951  \n",
       "2216     6  0.267393  \n",
       "4938     6  0.253435  \n",
       "\n",
       "[1950 rows x 3 columns]"
      ]
     },
     "execution_count": 12,
     "metadata": {},
     "output_type": "execute_result"
    }
   ],
   "source": [
    "# Cela permet de voir les tweets qui correspondent le plus au topic 6 : on ne voit pas trop ce qu'ils ont en commun. \n",
    "# Penser à ajuster le seuil ci-dessus. \n",
    "res= res.sort_values(\"topic\")\n",
    "res[res.topic == 6]"
   ]
  },
  {
   "cell_type": "code",
   "execution_count": 13,
   "id": "boring-hundred",
   "metadata": {},
   "outputs": [
    {
     "name": "stderr",
     "output_type": "stream",
     "text": [
      "/usr/local/lib/python3.8/dist-packages/ipykernel/ipkernel.py:283: DeprecationWarning: `should_run_async` will not call `transform_cell` automatically in the future. Please pass the result to `transformed_cell` argument and any exception that happen during thetransform in `preprocessing_exc_tuple` in IPython 7.17 and above.\n",
      "  and should_run_async(code)\n"
     ]
    },
    {
     "name": "stdout",
     "output_type": "stream",
     "text": [
      "\n",
      "Perplexity:  -9.887163611737485\n",
      "\n",
      "Coherence Score:  0.257923618231118\n"
     ]
    }
   ],
   "source": [
    "# Calculer des métriques pour connaître la performance du modèle. \n",
    "# Compute Perplexity\n",
    "print('\\nPerplexity: ', lda_model.log_perplexity(corpus))  # a measure of how good the model is. lower the better.\n",
    "\n",
    "# Compute Coherence Score\n",
    "coherence_model_lda = CoherenceModel(model=lda_model, texts=data_lemmatized, dictionary=id2word, coherence='c_v')\n",
    "coherence_lda = coherence_model_lda.get_coherence()\n",
    "print('\\nCoherence Score: ', coherence_lda)"
   ]
  },
  {
   "cell_type": "code",
   "execution_count": 14,
   "id": "hourly-ghost",
   "metadata": {},
   "outputs": [
    {
     "name": "stderr",
     "output_type": "stream",
     "text": [
      "/usr/local/lib/python3.8/dist-packages/ipykernel/ipkernel.py:283: DeprecationWarning: `should_run_async` will not call `transform_cell` automatically in the future. Please pass the result to `transformed_cell` argument and any exception that happen during thetransform in `preprocessing_exc_tuple` in IPython 7.17 and above.\n",
      "  and should_run_async(code)\n"
     ]
    },
    {
     "data": {
      "text/html": [
       "\n",
       "<link rel=\"stylesheet\" type=\"text/css\" href=\"https://cdn.jsdelivr.net/gh/bmabey/pyLDAvis/pyLDAvis/js/ldavis.v1.0.0.css\">\n",
       "\n",
       "\n",
       "<div id=\"ldavis_el291031400144574200329220687301\"></div>\n",
       "<script type=\"text/javascript\">\n",
       "\n",
       "var ldavis_el291031400144574200329220687301_data = {\"mdsDat\": {\"x\": [-0.1637436283204981, -0.23727363463279852, -0.17690759806728573, -0.06986468146834424, 0.10459837793878969, 0.17913683689063353, 0.18221851478705958, 0.18183581287244327], \"y\": [-0.11283766780202666, 0.2835869217454447, -0.311534064379519, 0.12814265871726005, -0.004829302305907309, 0.008342034236450052, 0.004885267363738587, 0.004244152424559629], \"topics\": [1, 2, 3, 4, 5, 6, 7, 8], \"cluster\": [1, 1, 1, 1, 1, 1, 1, 1], \"Freq\": [22.786612071851213, 21.388315622538983, 20.121167989431125, 15.754346567999992, 9.55247748037988, 4.649572068245071, 3.095021862495323, 2.6524863370584177]}, \"tinfo\": {\"Term\": [\"carte\", \"paiement\", \"depense\", \"payer\", \"acheter\", \"contact\", \"mobile\", \"compte\", \"achat\", \"jour\", \"bancaire\", \"cb\", \"euro\", \"pouvoir\", \"tout\", \"reglemer\", \"bon\", \"bien\", \"bleu\", \"merci\", \"aller\", \"jeu\", \"bonjour\", \"passer\", \"mois\", \"reglement\", \"prendre\", \"nouveau\", \"cheque\", \"argent\", \"acheter\", \"achat\", \"pouvoir\", \"bon\", \"prendre\", \"nouveau\", \"site\", \"permettre\", \"petit\", \"vraiment\", \"ligne\", \"produit\", \"internet\", \"venir\", \"vien\", \"command\", \"regler\", \"partir\", \"question\", \"besoin\", \"part\", \"simple\", \"problem\", \"jeux\", \"donner\", \"surtout\", \"perdre\", \"special\", \"demain\", \"disponible\", \"carte\", \"paiement\", \"bancaire\", \"reglemer\", \"bonjour\", \"reglement\", \"cheque\", \"service\", \"savoir\", \"possible\", \"utiliser\", \"moyen\", \"seul\", \"ticket\", \"pense\", \"telephon\", \"montant\", \"solution\", \"info\", \"bloqu\", \"numero\", \"accepte\", \"lign\", \"vacance\", \"demander\", \"refuse\", \"mode\", \"uniquement\", \"francai\", \"heure\", \"visa\", \"competitif\", \"busines\", \"depense\", \"payer\", \"bien\", \"bleu\", \"aller\", \"apre\", \"fois\", \"eter\", \"voir\", \"prix\", \"mettre\", \"demande\", \"jusqu\", \"semaine\", \"credit\", \"temps\", \"place\", \"pay\", \"moment\", \"truc\", \"comprendre\", \"livre\", \"maintenant\", \"arrive\", \"mal\", \"gros\", \"ete\", \"falloir\", \"balle\", \"dire\", \"mdr\", \"contact\", \"mobile\", \"cb\", \"tout\", \"passer\", \"mois\", \"argent\", \"devoir\", \"client\", \"premier\", \"code\", \"banque\", \"million\", \"tre\", \"paypal\", \"faire\", \"attendre\", \"journe\", \"autre\", \"covid\", \"cas\", \"reste\", \"vie\", \"abonnement\", \"lien\", \"annee\", \"beaucoup\", \"facilement\", \"proposer\", \"milliard\", \"compte\", \"euro\", \"merci\", \"vouloir\", \"an\", \"retirer\", \"banqu\", \"virement\", \"point\", \"depenser\", \"mai\", \"cadeau\", \"pourquoi\", \"apple\", \"marche\", \"dernier\", \"fnac\", \"chose\", \"fintech\", \"caisse\", \"soir\", \"etat\", \"droit\", \"adresse\", \"securise\", \"super\", \"prochain\", \"jeune\", \"bah\", \"utilisation\", \"frais\", \"grand\", \"sortir\", \"googl\", \"lieu\", \"mond\", \"trouve\", \"chinois\", \"immediatement\", \"obtenir\", \"ainsi\", \"hello\", \"propose\", \"pass\", \"oublier\", \"consommateur\", \"etranger\", \"arger\", \"assurance\", \"ancien\", \"fr\", \"system\", \"acce\", \"vole\", \"arriver\", \"solde\", \"etc\", \"mars\", \"projet\", \"francaise\", \"jour\", \"jeu\", \"amazon\", \"application\", \"plafond\", \"recu\", \"effectuer\", \"gt\", \"tel\", \"afin\", \"remboursement\", \"plaisir\", \"magasin\", \"message\", \"youtube\", \"faite\", \"tour\", \"smartphone\", \"general\", \"effectue\", \"max\", \"technique\", \"creer\", \"tenir\", \"rendez\", \"respecter\", \"mauvais\", \"pas\", \"forfaire\", \"geste\", \"aujourd\", \"fin\", \"hier\", \"bel\", \"mieux\", \"gens\", \"assez\", \"vite\", \"donnee\", \"vol\", \"noel\", \"accord\", \"mort\", \"parent\", \"travail\", \"facture\", \"essayer\", \"ouvert\", \"agence\", \"budget\", \"decembre\", \"pareil\", \"pirate\", \"pire\", \"facile\", \"laisser\", \"video\", \"ami\", \"commerce\", \"simplement\"], \"Freq\": [111123.0, 51173.0, 34961.0, 27290.0, 24978.0, 17429.0, 15023.0, 11703.0, 17668.0, 7212.0, 15813.0, 12104.0, 9503.0, 14663.0, 10596.0, 12360.0, 11991.0, 9570.0, 9389.0, 6114.0, 8840.0, 4043.0, 9066.0, 7526.0, 7516.0, 8504.0, 8778.0, 8450.0, 8060.0, 6370.0, 24977.747022844374, 17667.286794623506, 14662.359965886524, 11990.591530048107, 8777.680436950684, 8449.11364429812, 5797.844265460047, 5242.39976136296, 4603.744965204186, 4268.445759083941, 3596.4619814711646, 3556.243333757794, 3435.2262076926863, 3231.634598403746, 2901.2557732222035, 2874.642437647144, 2839.4275556380953, 2682.289191415894, 2539.3053911577185, 2525.569790323126, 2503.570487308729, 2488.748618630704, 2417.8858429628785, 2247.599196690018, 2201.9621253345945, 2170.3447974661754, 2139.910264370956, 2108.2639331058, 2078.414906082218, 2022.0334357697889, 111122.08698151427, 51172.29155292471, 15812.775082335102, 12359.35656823757, 9065.305057646747, 8503.11627597865, 8059.843618702891, 5773.929968055626, 4835.954578200401, 4083.8313598629184, 3953.5034391291956, 3537.0281706231763, 3156.7220180746635, 3111.7424491679644, 2376.765425057592, 2276.335619552179, 2144.7464800860794, 2101.3775704475574, 2011.1959647093593, 1857.1926501085204, 1780.7742798862703, 1713.4298786350366, 1705.3497840546436, 1621.5919928161663, 1615.2354929418748, 1549.4953704256022, 1507.7754032545538, 1499.7558173974933, 1365.188989421673, 1342.067000468831, 2717.545663123623, 1440.8632831287089, 1648.6305657414737, 34960.190761561615, 27289.83525676517, 9569.18770819252, 9388.698350771425, 8839.992040377461, 7216.807535541518, 7201.810040591186, 7188.871809982987, 7158.427831626849, 5840.62670641111, 5771.528103415925, 4451.143493825371, 3837.6279808410627, 3731.4198017153753, 3567.038805512346, 3370.2914240546943, 2950.5588482516073, 2907.6564406759635, 2862.6087326459538, 2834.8198687301665, 2775.3016869582566, 2492.32291129982, 2406.374035681535, 2323.1681113716722, 2299.2868876231832, 2093.378661052386, 2088.393768726321, 2067.621449889223, 2067.290310899112, 1981.0989334947146, 2834.3560740600283, 17428.296003626714, 15022.921794302447, 12103.736211438792, 10595.357457960577, 7525.487025733093, 7515.415635009427, 6369.26981417044, 5894.3873235284045, 5048.974846434505, 4346.5796268120275, 4028.15774513437, 3804.6329660397805, 3649.378016343218, 3580.2496873625987, 3439.9589493684457, 3192.075967883389, 2940.4071285675063, 2615.1561020350387, 2126.0242415875578, 2100.492651993876, 2075.0711947371574, 1992.3032186473438, 1990.4828235470295, 1920.7961565167102, 1918.7390473891523, 1910.1545215447538, 1759.837354392666, 1742.246415956438, 1630.218016866946, 1628.4640458219274, 11702.259757841124, 9502.698064338272, 6113.503148153722, 4908.0275928671, 4854.3460416638, 4657.927334437914, 3859.564581018812, 3147.5962093091525, 3041.265831690181, 3021.906041498253, 2810.8506071682323, 2673.356296245756, 2611.071364848828, 2360.7721986101046, 2345.2585293389907, 2295.049600724555, 2193.940220643041, 2051.8721699740295, 1835.0677870055913, 1824.6805058267105, 1673.6940901042683, 1622.8645007317048, 1478.031593514357, 1436.1839171057213, 1348.869942987427, 1279.716042903247, 1207.951169103324, 1165.3723592610625, 1123.1551740753962, 1122.308723506728, 3448.306897924619, 2261.9359279611112, 1828.8749173232068, 1822.5063050562762, 1821.0395416723459, 1720.732788824978, 1707.7734507084538, 1565.46022941965, 1456.937215889369, 1318.405658662425, 1187.533876048258, 1114.8417966111335, 1027.3873013104633, 1011.7283862029881, 995.3164857068264, 954.8920910729598, 914.2451205050926, 886.7075672979885, 885.997857994517, 787.6387139223566, 775.0217469714484, 765.862243324358, 765.1208167191156, 755.1959829026204, 752.0323438739532, 749.3159835294414, 738.3144259175555, 720.0234833495771, 716.080643611372, 700.1798725191112, 7211.281258538419, 4042.9121151340937, 2027.6194109305754, 1939.4201192661428, 1860.5325201027376, 1712.0461163697214, 1665.1067607195382, 1143.844396946982, 1051.8828313957463, 1041.0145736309928, 1025.511890238621, 862.4129284801558, 832.5876041135904, 781.0353050121983, 765.2827143527144, 692.9879889739971, 683.4220804598731, 621.9742537765281, 614.9170202817187, 611.847715856282, 605.4050941994315, 547.4786825023455, 487.19443267216604, 484.3834375685114, 466.84453315404613, 440.27935988328227, 422.7972385855439, 377.9122622441038, 374.56501292589746, 362.1431444660929, 1738.903040928784, 1700.3970539735992, 1690.5495510228386, 1427.0372425340643, 1339.2127131268844, 1066.674889703778, 1037.5482808336246, 989.643291897752, 896.7352239723373, 730.5621329014667, 727.0243981854011, 685.2514018703505, 675.3405960303772, 669.4082185202061, 646.5612562599639, 646.46936156579, 625.4770684546678, 604.1532792137011, 595.3749620617451, 582.4372230692458, 581.7797170599554, 558.1520191660885, 555.1786824597626, 542.3026110318382, 508.4664782138824, 499.7578469924681, 493.28459904638123, 477.7557145411785, 470.70888966641587, 431.2520669390506], \"Total\": [111123.0, 51173.0, 34961.0, 27290.0, 24978.0, 17429.0, 15023.0, 11703.0, 17668.0, 7212.0, 15813.0, 12104.0, 9503.0, 14663.0, 10596.0, 12360.0, 11991.0, 9570.0, 9389.0, 6114.0, 8840.0, 4043.0, 9066.0, 7526.0, 7516.0, 8504.0, 8778.0, 8450.0, 8060.0, 6370.0, 24978.681756847607, 17668.22158933831, 14663.295010256512, 11991.526743983044, 8778.615563127836, 8450.048906250546, 5798.779413267956, 5243.3351383982235, 4604.680149241661, 4269.381348327371, 3597.39710664799, 3557.179237940959, 3436.161280009518, 3232.569831081924, 2902.191063598523, 2875.577420519135, 2840.3624533915877, 2683.224301949135, 2540.2406980129313, 2526.5049599883387, 2504.505884086122, 2489.684356354425, 2418.821129179427, 2248.5342551535578, 2202.8974339078927, 2171.280043341576, 2140.845744961558, 2109.1990463010493, 2079.3501873530927, 2022.9689862751447, 111123.04058070923, 51173.24494583506, 15813.728446410385, 12360.313134169171, 9066.258681503854, 8504.073463628256, 8060.797300056881, 5774.883597367375, 4836.908294737402, 4084.784856351716, 3954.4569405507827, 3537.9815332192443, 3157.67555454162, 3112.695733385035, 2377.719102159575, 2277.288760324904, 2145.700501829359, 2102.331115381012, 2012.1496007639207, 1858.146378852088, 1781.7281633792843, 1714.3833678377687, 1706.3028722360539, 1622.5457046704478, 1616.1888697627128, 1550.4484809775515, 1508.7290258628589, 1500.709362862713, 1366.1426889817374, 1343.0205470588432, 2724.1701361944906, 1442.1290578559492, 1693.9594695044304, 34961.14934175498, 27290.79143403612, 9570.144332445967, 9389.65506879102, 8840.948366429207, 7217.7642330960625, 7202.76669973137, 7189.828519674228, 7159.384537847722, 5841.5842686017395, 5772.484720547893, 4452.1002280919, 3838.5844056817587, 3732.3765533562346, 3567.9952620403715, 3371.2480447588914, 2951.5153646864787, 2908.613221866512, 2863.565183657948, 2835.7762476814173, 2776.260416703371, 2493.280818245628, 2407.3306022839047, 2324.124456341889, 2300.243620851542, 2094.3351133217543, 2089.3504912424237, 2068.5779469438467, 2068.247414264645, 1982.05525770026, 2849.5090176820017, 17429.254986848737, 15023.882396859555, 12104.695677397618, 10596.316953767622, 7526.446169385642, 7516.375222471296, 6370.229528677302, 5895.3465544251885, 5049.934416613938, 4347.538877819419, 4029.1168893905474, 3805.5920384080696, 3650.338456155955, 3581.2089597075183, 3440.9181121382107, 3193.0355196030287, 2941.36653716336, 2616.1159322233507, 2126.9835294598784, 2101.4516703865365, 2076.0304798736593, 1993.2626010031547, 1991.4421357805452, 1921.7553493322375, 1919.6982176963013, 1911.1141185485665, 1760.796849750724, 1743.208762502934, 1631.1777276365751, 1629.4242148211615, 11703.217067925303, 9503.655333187817, 6114.46034800089, 4908.984776878409, 4855.303502720924, 4658.884211771822, 3860.521904279842, 3148.5529648701277, 3042.2235120874097, 3022.8629237217874, 2811.808192728653, 2674.3137875696057, 2612.028634605332, 2361.7302718980823, 2346.215842231467, 2296.0073728358393, 2194.8973664694117, 2052.829483123776, 1836.02557621163, 1825.6377341251211, 1674.6518218081521, 1623.8220274754503, 1478.9890343805505, 1437.1418313336194, 1349.8286876290347, 1280.6734650232754, 1208.9085519525581, 1166.3296910693728, 1124.11251166104, 1123.266803550751, 3449.2754918269857, 2262.9046824281622, 1829.8435910269654, 1823.475502477395, 1822.0081823398343, 1721.7019045989898, 1708.7423853767268, 1566.4294286715915, 1457.9061692383834, 1319.3755606704103, 1188.5025919501413, 1115.8108569099913, 1028.3559641930954, 1012.6969570900214, 996.2852428144408, 955.8606031391455, 915.2136401843126, 887.676894512291, 886.9664953943444, 788.6075760915604, 775.9907096173712, 766.8312349998454, 766.0897547899284, 756.1652589785897, 753.0012582102944, 750.2849261770833, 739.2832625413483, 720.9926120559098, 717.0501089162915, 701.1491834759288, 7212.275626190981, 4043.906495614798, 2028.6139320041725, 1940.414424409724, 1861.5263106208254, 1713.0404102538996, 1666.1018646473037, 1144.838234875784, 1052.8766692850982, 1042.0086517068619, 1026.5059542263832, 863.4077163317004, 833.5817419323089, 782.0293617036397, 766.2795955016966, 693.9820999772016, 684.4164216414403, 622.9681603397984, 615.9118860693628, 612.8416744322635, 606.3991374756689, 548.4731507495329, 488.18830509344326, 485.3780496477705, 467.83939629637547, 441.2743923589293, 423.79145658078835, 378.9062821117679, 375.55881989364065, 363.1367484789886, 1739.8935136594025, 1701.3874921801043, 1691.5400780278885, 1428.028361422611, 1340.202796408787, 1067.6647706578665, 1038.5385563133882, 990.6335373006486, 897.7256786823898, 731.5526059867257, 728.0148680493339, 686.2416743062504, 676.3309433253614, 670.3985162355708, 647.5514917177012, 647.4595385634851, 626.4670319053496, 605.143952640083, 596.3656519407511, 583.4280743854563, 582.7702953733454, 559.1424876900592, 556.1694076517597, 543.292617700709, 509.45661291563465, 500.7480552591258, 494.2747287974929, 478.74592507826003, 471.69863115073423, 432.2425763487606], \"Category\": [\"Default\", \"Default\", \"Default\", \"Default\", \"Default\", \"Default\", \"Default\", \"Default\", \"Default\", \"Default\", \"Default\", \"Default\", \"Default\", \"Default\", \"Default\", \"Default\", \"Default\", \"Default\", \"Default\", \"Default\", \"Default\", \"Default\", \"Default\", \"Default\", \"Default\", \"Default\", \"Default\", \"Default\", \"Default\", \"Default\", \"Topic1\", \"Topic1\", \"Topic1\", \"Topic1\", \"Topic1\", \"Topic1\", \"Topic1\", \"Topic1\", \"Topic1\", \"Topic1\", \"Topic1\", \"Topic1\", \"Topic1\", \"Topic1\", \"Topic1\", \"Topic1\", \"Topic1\", \"Topic1\", \"Topic1\", \"Topic1\", \"Topic1\", \"Topic1\", \"Topic1\", \"Topic1\", \"Topic1\", \"Topic1\", \"Topic1\", \"Topic1\", \"Topic1\", \"Topic1\", \"Topic2\", \"Topic2\", \"Topic2\", \"Topic2\", \"Topic2\", \"Topic2\", \"Topic2\", \"Topic2\", \"Topic2\", \"Topic2\", \"Topic2\", \"Topic2\", \"Topic2\", \"Topic2\", \"Topic2\", \"Topic2\", \"Topic2\", \"Topic2\", \"Topic2\", \"Topic2\", \"Topic2\", \"Topic2\", \"Topic2\", \"Topic2\", \"Topic2\", \"Topic2\", \"Topic2\", \"Topic2\", \"Topic2\", \"Topic2\", \"Topic2\", \"Topic2\", \"Topic2\", \"Topic3\", \"Topic3\", \"Topic3\", \"Topic3\", \"Topic3\", \"Topic3\", \"Topic3\", \"Topic3\", \"Topic3\", \"Topic3\", \"Topic3\", \"Topic3\", \"Topic3\", \"Topic3\", \"Topic3\", \"Topic3\", \"Topic3\", \"Topic3\", \"Topic3\", \"Topic3\", \"Topic3\", \"Topic3\", \"Topic3\", \"Topic3\", \"Topic3\", \"Topic3\", \"Topic3\", \"Topic3\", \"Topic3\", \"Topic3\", \"Topic3\", \"Topic4\", \"Topic4\", \"Topic4\", \"Topic4\", \"Topic4\", \"Topic4\", \"Topic4\", \"Topic4\", \"Topic4\", \"Topic4\", \"Topic4\", \"Topic4\", \"Topic4\", \"Topic4\", \"Topic4\", \"Topic4\", \"Topic4\", \"Topic4\", \"Topic4\", \"Topic4\", \"Topic4\", \"Topic4\", \"Topic4\", \"Topic4\", \"Topic4\", \"Topic4\", \"Topic4\", \"Topic4\", \"Topic4\", \"Topic4\", \"Topic5\", \"Topic5\", \"Topic5\", \"Topic5\", \"Topic5\", \"Topic5\", \"Topic5\", \"Topic5\", \"Topic5\", \"Topic5\", \"Topic5\", \"Topic5\", \"Topic5\", \"Topic5\", \"Topic5\", \"Topic5\", \"Topic5\", \"Topic5\", \"Topic5\", \"Topic5\", \"Topic5\", \"Topic5\", \"Topic5\", \"Topic5\", \"Topic5\", \"Topic5\", \"Topic5\", \"Topic5\", \"Topic5\", \"Topic5\", \"Topic6\", \"Topic6\", \"Topic6\", \"Topic6\", \"Topic6\", \"Topic6\", \"Topic6\", \"Topic6\", \"Topic6\", \"Topic6\", \"Topic6\", \"Topic6\", \"Topic6\", \"Topic6\", \"Topic6\", \"Topic6\", \"Topic6\", \"Topic6\", \"Topic6\", \"Topic6\", \"Topic6\", \"Topic6\", \"Topic6\", \"Topic6\", \"Topic6\", \"Topic6\", \"Topic6\", \"Topic6\", \"Topic6\", \"Topic6\", \"Topic7\", \"Topic7\", \"Topic7\", \"Topic7\", \"Topic7\", \"Topic7\", \"Topic7\", \"Topic7\", \"Topic7\", \"Topic7\", \"Topic7\", \"Topic7\", \"Topic7\", \"Topic7\", \"Topic7\", \"Topic7\", \"Topic7\", \"Topic7\", \"Topic7\", \"Topic7\", \"Topic7\", \"Topic7\", \"Topic7\", \"Topic7\", \"Topic7\", \"Topic7\", \"Topic7\", \"Topic7\", \"Topic7\", \"Topic7\", \"Topic8\", \"Topic8\", \"Topic8\", \"Topic8\", \"Topic8\", \"Topic8\", \"Topic8\", \"Topic8\", \"Topic8\", \"Topic8\", \"Topic8\", \"Topic8\", \"Topic8\", \"Topic8\", \"Topic8\", \"Topic8\", \"Topic8\", \"Topic8\", \"Topic8\", \"Topic8\", \"Topic8\", \"Topic8\", \"Topic8\", \"Topic8\", \"Topic8\", \"Topic8\", \"Topic8\", \"Topic8\", \"Topic8\", \"Topic8\"], \"logprob\": [30.0, 29.0, 28.0, 27.0, 26.0, 25.0, 24.0, 23.0, 22.0, 21.0, 20.0, 19.0, 18.0, 17.0, 16.0, 15.0, 14.0, 13.0, 12.0, 11.0, 10.0, 9.0, 8.0, 7.0, 6.0, 5.0, 4.0, 3.0, 2.0, 1.0, -2.9694, -3.3157, -3.5022, -3.7033, -4.0152, -4.0534, -4.4299, -4.5307, -4.6606, -4.7362, -4.9075, -4.9187, -4.9534, -5.0144, -5.1223, -5.1315, -5.1438, -5.2008, -5.2555, -5.261, -5.2697, -5.2757, -5.3045, -5.3776, -5.3981, -5.4125, -5.4267, -5.4416, -5.4558, -5.4833, -1.4135, -2.1889, -3.3633, -3.6097, -3.9197, -3.9837, -4.0372, -4.3708, -4.548, -4.7171, -4.7495, -4.8608, -4.9746, -4.9889, -5.2584, -5.3015, -5.3611, -5.3815, -5.4254, -5.505, -5.5471, -5.5856, -5.5903, -5.6407, -5.6446, -5.6862, -5.7135, -5.7188, -5.8128, -5.8299, -5.1244, -5.7589, -5.6242, -2.5088, -2.7565, -3.8045, -3.8235, -3.8837, -4.0866, -4.0887, -4.0905, -4.0947, -4.2982, -4.3101, -4.5699, -4.7182, -4.7462, -4.7913, -4.848, -4.981, -4.9957, -5.0113, -5.0211, -5.0423, -5.1498, -5.1849, -5.2201, -5.2304, -5.3243, -5.3266, -5.3366, -5.3368, -5.3794, -5.0212, -2.9603, -3.1088, -3.3249, -3.458, -3.8001, -3.8014, -3.9669, -4.0444, -4.1992, -4.349, -4.4251, -4.4822, -4.5238, -4.5429, -4.5829, -4.6577, -4.7398, -4.8571, -5.0641, -5.0762, -5.0884, -5.1291, -5.13, -5.1656, -5.1667, -5.1712, -5.2532, -5.2632, -5.3297, -5.3307, -2.8583, -3.0665, -3.5076, -3.7272, -3.7382, -3.7795, -3.9675, -4.1714, -4.2058, -4.2122, -4.2846, -4.3347, -4.3583, -4.4591, -4.4657, -4.4873, -4.5324, -4.5993, -4.711, -4.7167, -4.803, -4.8339, -4.9274, -4.9561, -5.0188, -5.0714, -5.1291, -5.165, -5.2019, -5.2027, -3.3602, -3.7818, -3.9943, -3.9978, -3.9986, -4.0553, -4.0628, -4.1499, -4.2217, -4.3216, -4.4262, -4.4893, -4.571, -4.5864, -4.6027, -4.6442, -4.6877, -4.7183, -4.7191, -4.8368, -4.8529, -4.8648, -4.8658, -4.8788, -4.883, -4.8866, -4.9014, -4.9265, -4.932, -4.9545, -2.2154, -2.7941, -3.4842, -3.5287, -3.5702, -3.6534, -3.6812, -4.0567, -4.1405, -4.1509, -4.1659, -4.3391, -4.3743, -4.4382, -4.4586, -4.5578, -4.5717, -4.6659, -4.6773, -4.6823, -4.6929, -4.7935, -4.9101, -4.9159, -4.9528, -5.0114, -5.0519, -5.1641, -5.173, -5.2068, -3.4835, -3.5059, -3.5117, -3.6812, -3.7447, -3.9722, -3.9999, -4.0472, -4.1458, -4.3507, -4.3556, -4.4147, -4.4293, -4.4381, -4.4728, -4.473, -4.506, -4.5407, -4.5553, -4.5773, -4.5784, -4.6199, -4.6252, -4.6487, -4.7131, -4.7304, -4.7434, -4.7754, -4.7903, -4.8778], \"loglift\": [30.0, 29.0, 28.0, 27.0, 26.0, 25.0, 24.0, 23.0, 22.0, 21.0, 20.0, 19.0, 18.0, 17.0, 16.0, 15.0, 14.0, 13.0, 12.0, 11.0, 10.0, 9.0, 8.0, 7.0, 6.0, 5.0, 4.0, 3.0, 2.0, 1.0, 1.479, 1.4789, 1.4789, 1.4789, 1.4789, 1.4789, 1.4788, 1.4788, 1.4788, 1.4788, 1.4787, 1.4787, 1.4787, 1.4787, 1.4787, 1.4787, 1.4787, 1.4786, 1.4786, 1.4786, 1.4786, 1.4786, 1.4786, 1.4786, 1.4786, 1.4786, 1.4786, 1.4786, 1.4785, 1.4785, 1.5423, 1.5423, 1.5423, 1.5422, 1.5422, 1.5422, 1.5422, 1.5422, 1.5421, 1.5421, 1.5421, 1.5421, 1.542, 1.542, 1.5419, 1.5419, 1.5419, 1.5419, 1.5419, 1.5418, 1.5418, 1.5418, 1.5418, 1.5417, 1.5417, 1.5417, 1.5417, 1.5417, 1.5416, 1.5416, 1.5399, 1.5414, 1.5152, 1.6034, 1.6034, 1.6033, 1.6033, 1.6033, 1.6033, 1.6033, 1.6033, 1.6033, 1.6032, 1.6032, 1.6032, 1.6031, 1.6031, 1.6031, 1.6031, 1.6031, 1.6031, 1.6031, 1.6031, 1.6031, 1.603, 1.603, 1.603, 1.603, 1.6029, 1.6029, 1.6029, 1.6029, 1.6029, 1.5981, 1.848, 1.848, 1.848, 1.848, 1.8479, 1.8479, 1.8479, 1.8479, 1.8479, 1.8478, 1.8478, 1.8478, 1.8478, 1.8478, 1.8478, 1.8478, 1.8477, 1.8477, 1.8476, 1.8476, 1.8476, 1.8476, 1.8476, 1.8476, 1.8476, 1.8476, 1.8475, 1.8475, 1.8475, 1.8475, 2.3483, 2.3483, 2.3482, 2.3482, 2.3482, 2.3482, 2.3481, 2.3481, 2.3481, 2.3481, 2.348, 2.348, 2.348, 2.348, 2.348, 2.348, 2.3479, 2.3479, 2.3478, 2.3478, 2.3478, 2.3478, 2.3477, 2.3477, 2.3477, 2.3476, 2.3476, 2.3475, 2.3475, 2.3475, 3.0681, 3.068, 3.0679, 3.0679, 3.0679, 3.0678, 3.0678, 3.0678, 3.0677, 3.0677, 3.0676, 3.0675, 3.0675, 3.0674, 3.0674, 3.0674, 3.0673, 3.0673, 3.0673, 3.0672, 3.0671, 3.0671, 3.0671, 3.0671, 3.0671, 3.0671, 3.0671, 3.067, 3.067, 3.067, 3.4752, 3.4751, 3.4749, 3.4749, 3.4748, 3.4748, 3.4748, 3.4745, 3.4744, 3.4744, 3.4744, 3.4742, 3.4742, 3.4741, 3.4741, 3.4739, 3.4739, 3.4738, 3.4738, 3.4738, 3.4737, 3.4736, 3.4733, 3.4733, 3.4732, 3.4731, 3.473, 3.4727, 3.4727, 3.4726, 3.6291, 3.6291, 3.6291, 3.629, 3.6289, 3.6287, 3.6287, 3.6287, 3.6286, 3.6283, 3.6283, 3.6282, 3.6282, 3.6282, 3.6281, 3.6281, 3.6281, 3.628, 3.628, 3.628, 3.628, 3.6279, 3.6279, 3.6278, 3.6277, 3.6277, 3.6277, 3.6276, 3.6276, 3.6274]}, \"token.table\": {\"Topic\": [4, 6, 2, 8, 1, 1, 5, 7, 8, 6, 3, 7, 8, 5, 6, 4, 5, 7, 3, 4, 6, 3, 6, 8, 6, 4, 8, 4, 5, 3, 2, 5, 4, 4, 8, 1, 3, 3, 2, 1, 2, 8, 2, 4, 5, 5, 2, 4, 4, 2, 6, 5, 4, 4, 1, 8, 2, 3, 5, 6, 4, 4, 3, 7, 8, 1, 3, 2, 3, 5, 5, 4, 3, 1, 8, 1, 5, 7, 7, 8, 5, 6, 3, 3, 6, 5, 8, 4, 8, 4, 7, 3, 8, 5, 5, 3, 7, 6, 6, 2, 6, 7, 8, 7, 6, 6, 3, 7, 6, 2, 8, 6, 2, 1, 7, 5, 1, 7, 4, 3, 8, 4, 6, 2, 1, 3, 7, 5, 3, 3, 5, 6, 7, 7, 1, 3, 5, 5, 7, 3, 8, 4, 4, 4, 2, 4, 3, 6, 2, 8, 2, 8, 1, 2, 6, 6, 8, 2, 8, 8, 1, 1, 7, 6, 4, 3, 3, 4, 2, 1, 1, 1, 8, 8, 3, 7, 7, 5, 2, 5, 1, 4, 1, 3, 1, 5, 1, 6, 6, 4, 1, 7, 2, 2, 2, 1, 7, 7, 7, 4, 5, 2, 5, 3, 2, 2, 1, 8, 1, 7, 5, 6, 2, 6, 1, 5, 1, 6, 7, 7, 2, 3, 7, 2, 7, 4, 8, 4, 6, 3, 2, 5, 2, 2, 1, 8, 4, 1, 5, 1, 2, 3, 4, 8, 3, 8, 6, 5, 1, 7], \"Freq\": [0.9996069482348521, 0.9985775102941727, 0.9991930813937413, 0.9981906165819707, 0.9999308595190447, 0.999972706452076, 0.9992054845884211, 0.9990320121572794, 0.9977100425949971, 0.9995771217046177, 0.999892730237764, 0.9996973638036855, 0.9984419186896722, 0.9997315301257287, 0.9992295583887595, 0.9994170319094222, 0.9996907894577244, 0.9992710709671444, 0.9998941177528966, 0.9998069883240835, 0.9992374539469534, 0.9995161806680272, 0.9986703100434731, 0.9994814286767552, 0.9989103360731628, 0.9995354073876567, 0.9994864549741764, 0.9995375942285137, 0.9990103200084518, 0.9993968737704968, 0.9999539358214697, 0.9998648099161764, 0.9998444293549875, 0.9995474493546278, 0.9992798732501458, 0.9998001349705085, 0.9998804268351432, 0.9999302350527021, 0.9993830524520915, 0.9999560736514799, 0.9998611685869474, 0.9975522700258116, 0.9734589461472869, 0.02597464744116472, 0.9995087384376088, 0.9996506787117726, 0.9999906357790086, 0.9995036296992509, 0.9999425283033826, 0.999901089181727, 0.9990874605357717, 0.9995959317953123, 0.9998149646041216, 0.9997227954856588, 0.9997991984096777, 0.9985189035867459, 0.9992170895872331, 0.9995460019903797, 0.9998960056949948, 0.9990996562298737, 0.9999279953819206, 0.9993092059137055, 0.99972105847478, 0.9975658878325325, 0.9986782178510798, 0.9993506686072867, 0.9997528743659099, 0.999264399238879, 0.9999671251724667, 0.9997145342863497, 0.9995612501737766, 0.9997715902851924, 0.9994675942074973, 0.9995210078445499, 0.9991916476273076, 0.9995926120326444, 0.999331276731903, 0.9986266037911942, 0.9993386570949327, 0.9976582456368251, 0.9994937699689119, 0.9982641801777886, 0.9993536310695194, 0.9998847650299363, 0.9986739269051234, 0.9999310440914742, 0.9971408499198815, 0.9993065876394527, 0.9977457455229969, 0.999675694305099, 0.9985848338491239, 0.9997206066395997, 0.9991844937226343, 0.9994414150734511, 0.9995911578905144, 0.9998935548292299, 0.9985120309681479, 0.998723297063879, 0.9996302145682454, 0.9991635654233241, 0.9983610000510423, 0.9985194536913676, 0.9993773601263842, 0.9968696407517281, 0.9997392328678126, 0.9996002118714115, 0.9993625120864078, 0.9992678136960764, 0.9992733025449879, 0.9992401106140347, 0.999680718160389, 0.9993784447466487, 0.9994286703317267, 0.9996620414716055, 0.9997758366530529, 0.9988599355057542, 0.9997623984814404, 0.999823131247737, 0.9995734393076372, 0.9998477548960774, 0.99850612448462, 0.999636287782181, 0.9994466642084232, 0.999236435537176, 0.9996116340213295, 0.999486292022842, 0.9993021177131827, 0.9997125718849732, 0.9994472706479773, 0.9994593525484567, 0.9994817858572166, 0.9986232701427004, 0.9981324385650104, 0.9976927119627952, 0.004913127108258327, 0.9945573017717214, 0.00035093765058988053, 0.9999247115894634, 0.9986837301077837, 0.9999160291327983, 0.9991025265638828, 0.9991259398208232, 0.9996333336834293, 0.9999412670549298, 0.9995167946991396, 0.9998170364796073, 0.9998026293722337, 0.9995923193224594, 0.9996735323365206, 0.9980321123282967, 0.9997225725431215, 0.9986059789519778, 0.9998758698012067, 0.9995913162320433, 0.9989574153778388, 0.9987099650188432, 0.9981096189838927, 0.9999756719387958, 0.9979567145849012, 0.9979139031461111, 0.9997980104222008, 0.9995437198641031, 0.9976081628768019, 0.999311781194619, 0.9998078549486576, 0.9997891703641096, 0.9999709999602601, 0.9997331781494677, 0.9996975663950709, 0.9996049482016401, 0.9997453646652402, 0.9998522917510845, 0.9978973894722165, 0.9976207707253975, 0.9998253898005598, 0.9997172693086191, 0.9983695810159292, 0.9995978230782359, 0.9998078585826875, 0.9996061932125458, 0.9999116835434596, 0.9998760499136262, 0.9999298792476548, 0.9998999811395549, 0.9996605250510171, 0.9992484527046395, 0.9996684907163572, 0.9985355152963039, 0.9986814252648797, 0.9992779893836085, 0.9995115824992876, 0.9993926528249585, 0.9990657664570458, 0.9998737706543991, 0.9998937620629091, 0.99952032410865, 0.9995071102858195, 0.9982058024548157, 0.9971120183246602, 0.9993665656484403, 0.9998102095412486, 0.9998122158449044, 0.9993860794064984, 0.9996311858311839, 0.9998469930428073, 0.9997860595460327, 0.9997251232459736, 0.9971252800701473, 0.9998655901160556, 0.9984458911362817, 0.9996107717439149, 0.9982874157106816, 0.999366838377041, 0.9995389818938065, 0.9994315158149004, 0.999474132133078, 0.9994104660310855, 0.9989160131174813, 0.9973140877588634, 0.9991673580480291, 0.9994340812867665, 0.9996297974096472, 0.9971608735731445, 0.9997764852575942, 0.9979304680649783, 0.9998757158951201, 0.9991483430665284, 0.9996624157592812, 0.9995655369802493, 0.999726266244718, 0.9995273149616659, 0.9988722149121236, 0.999884449228389, 0.9996636737757976, 0.9998237219575444, 0.9974210115888502, 0.9992758334502247, 0.9995895984887203, 0.9998243749187968, 0.00036708426787063404, 0.9977350400723833, 0.00036708426787063404, 0.0014683370714825362, 0.9993604725897177, 0.9998066121689089, 0.9992446121000685, 0.9984589890043829, 0.9997993929655175, 0.9996764523441056, 0.9983301193073544], \"Term\": [\"abonnement\", \"acce\", \"accepte\", \"accord\", \"achat\", \"acheter\", \"adresse\", \"afin\", \"agence\", \"ainsi\", \"aller\", \"amazon\", \"ami\", \"an\", \"ancien\", \"annee\", \"apple\", \"application\", \"apre\", \"argent\", \"arger\", \"arrive\", \"arriver\", \"assez\", \"assurance\", \"attendre\", \"aujourd\", \"autre\", \"bah\", \"balle\", \"bancaire\", \"banqu\", \"banque\", \"beaucoup\", \"bel\", \"besoin\", \"bien\", \"bleu\", \"bloqu\", \"bon\", \"bonjour\", \"budget\", \"busines\", \"busines\", \"cadeau\", \"caisse\", \"carte\", \"cas\", \"cb\", \"cheque\", \"chinois\", \"chose\", \"client\", \"code\", \"command\", \"commerce\", \"competitif\", \"comprendre\", \"compte\", \"consommateur\", \"contact\", \"covid\", \"credit\", \"creer\", \"decembre\", \"demain\", \"demande\", \"demander\", \"depense\", \"depenser\", \"dernier\", \"devoir\", \"dire\", \"disponible\", \"donnee\", \"donner\", \"droit\", \"effectue\", \"effectuer\", \"essayer\", \"etat\", \"etc\", \"ete\", \"eter\", \"etranger\", \"euro\", \"facile\", \"facilement\", \"facture\", \"faire\", \"faite\", \"falloir\", \"fin\", \"fintech\", \"fnac\", \"fois\", \"forfaire\", \"fr\", \"frais\", \"francai\", \"francaise\", \"general\", \"gens\", \"geste\", \"googl\", \"grand\", \"gros\", \"gt\", \"hello\", \"heure\", \"hier\", \"immediatement\", \"info\", \"internet\", \"jeu\", \"jeune\", \"jeux\", \"jour\", \"journe\", \"jusqu\", \"laisser\", \"lien\", \"lieu\", \"lign\", \"ligne\", \"livre\", \"magasin\", \"mai\", \"maintenant\", \"mal\", \"marche\", \"mars\", \"mauvais\", \"max\", \"mdr\", \"mdr\", \"mdr\", \"merci\", \"message\", \"mettre\", \"mieux\", \"milliard\", \"million\", \"mobile\", \"mode\", \"mois\", \"moment\", \"mond\", \"montant\", \"mort\", \"moyen\", \"noel\", \"nouveau\", \"numero\", \"obtenir\", \"oublier\", \"ouvert\", \"paiement\", \"pareil\", \"parent\", \"part\", \"partir\", \"pas\", \"pass\", \"passer\", \"pay\", \"payer\", \"paypal\", \"pense\", \"perdre\", \"permettre\", \"petit\", \"pirate\", \"pire\", \"place\", \"plafond\", \"plaisir\", \"point\", \"possible\", \"pourquoi\", \"pouvoir\", \"premier\", \"prendre\", \"prix\", \"problem\", \"prochain\", \"produit\", \"projet\", \"propose\", \"proposer\", \"question\", \"recu\", \"refuse\", \"reglement\", \"reglemer\", \"regler\", \"remboursement\", \"rendez\", \"respecter\", \"reste\", \"retirer\", \"savoir\", \"securise\", \"semaine\", \"service\", \"seul\", \"simple\", \"simplement\", \"site\", \"smartphone\", \"soir\", \"solde\", \"solution\", \"sortir\", \"special\", \"super\", \"surtout\", \"system\", \"technique\", \"tel\", \"telephon\", \"temps\", \"tenir\", \"ticket\", \"tour\", \"tout\", \"travail\", \"tre\", \"trouve\", \"truc\", \"uniquement\", \"utilisation\", \"utiliser\", \"vacance\", \"venir\", \"video\", \"vie\", \"vien\", \"virement\", \"visa\", \"visa\", \"visa\", \"visa\", \"vite\", \"voir\", \"vol\", \"vole\", \"vouloir\", \"vraiment\", \"youtube\"]}, \"R\": 30, \"lambda.step\": 0.01, \"plot.opts\": {\"xlab\": \"PC1\", \"ylab\": \"PC2\"}, \"topic.order\": [6, 7, 3, 2, 1, 5, 8, 4]};\n",
       "\n",
       "function LDAvis_load_lib(url, callback){\n",
       "  var s = document.createElement('script');\n",
       "  s.src = url;\n",
       "  s.async = true;\n",
       "  s.onreadystatechange = s.onload = callback;\n",
       "  s.onerror = function(){console.warn(\"failed to load library \" + url);};\n",
       "  document.getElementsByTagName(\"head\")[0].appendChild(s);\n",
       "}\n",
       "\n",
       "if(typeof(LDAvis) !== \"undefined\"){\n",
       "   // already loaded: just create the visualization\n",
       "   !function(LDAvis){\n",
       "       new LDAvis(\"#\" + \"ldavis_el291031400144574200329220687301\", ldavis_el291031400144574200329220687301_data);\n",
       "   }(LDAvis);\n",
       "}else if(typeof define === \"function\" && define.amd){\n",
       "   // require.js is available: use it to load d3/LDAvis\n",
       "   require.config({paths: {d3: \"https://d3js.org/d3.v5\"}});\n",
       "   require([\"d3\"], function(d3){\n",
       "      window.d3 = d3;\n",
       "      LDAvis_load_lib(\"https://cdn.jsdelivr.net/gh/bmabey/pyLDAvis/pyLDAvis/js/ldavis.v3.0.0.js\", function(){\n",
       "        new LDAvis(\"#\" + \"ldavis_el291031400144574200329220687301\", ldavis_el291031400144574200329220687301_data);\n",
       "      });\n",
       "    });\n",
       "}else{\n",
       "    // require.js not available: dynamically load d3 & LDAvis\n",
       "    LDAvis_load_lib(\"https://d3js.org/d3.v5.js\", function(){\n",
       "         LDAvis_load_lib(\"https://cdn.jsdelivr.net/gh/bmabey/pyLDAvis/pyLDAvis/js/ldavis.v3.0.0.js\", function(){\n",
       "                 new LDAvis(\"#\" + \"ldavis_el291031400144574200329220687301\", ldavis_el291031400144574200329220687301_data);\n",
       "            })\n",
       "         });\n",
       "}\n",
       "</script>"
      ],
      "text/plain": [
       "PreparedData(topic_coordinates=              x         y  topics  cluster       Freq\n",
       "topic                                                \n",
       "5     -0.163744 -0.112838       1        1  22.786612\n",
       "6     -0.237274  0.283587       2        1  21.388316\n",
       "2     -0.176908 -0.311534       3        1  20.121168\n",
       "1     -0.069865  0.128143       4        1  15.754347\n",
       "0      0.104598 -0.004829       5        1   9.552477\n",
       "4      0.179137  0.008342       6        1   4.649572\n",
       "7      0.182219  0.004885       7        1   3.095022\n",
       "3      0.181836  0.004244       8        1   2.652486, topic_info=            Term           Freq          Total Category  logprob  loglift\n",
       "4          carte  111123.000000  111123.000000  Default  30.0000  30.0000\n",
       "10      paiement   51173.000000   51173.000000  Default  29.0000  29.0000\n",
       "401      depense   34961.000000   34961.000000  Default  28.0000  28.0000\n",
       "68         payer   27290.000000   27290.000000  Default  27.0000  27.0000\n",
       "117      acheter   24978.000000   24978.000000  Default  26.0000  26.0000\n",
       "...          ...            ...            ...      ...      ...      ...\n",
       "1296     laisser     499.757847     500.748055   Topic8  -4.7304   3.6277\n",
       "4696       video     493.284599     494.274729   Topic8  -4.7434   3.6277\n",
       "657          ami     477.755715     478.745925   Topic8  -4.7754   3.6276\n",
       "262     commerce     470.708890     471.698631   Topic8  -4.7903   3.6276\n",
       "862   simplement     431.252067     432.242576   Topic8  -4.8778   3.6274\n",
       "\n",
       "[274 rows x 6 columns], token_table=      Topic      Freq        Term\n",
       "term                             \n",
       "507       4  0.999607  abonnement\n",
       "2159      6  0.998578        acce\n",
       "13        2  0.999193     accepte\n",
       "1107      8  0.998191      accord\n",
       "27        1  0.999931       achat\n",
       "...     ...       ...         ...\n",
       "1565      8  0.999245         vol\n",
       "1951      6  0.998459        vole\n",
       "345       5  0.999799     vouloir\n",
       "1980      1  0.999676    vraiment\n",
       "3281      7  0.998330     youtube\n",
       "\n",
       "[250 rows x 3 columns], R=30, lambda_step=0.01, plot_opts={'xlab': 'PC1', 'ylab': 'PC2'}, topic_order=[6, 7, 3, 2, 1, 5, 8, 4])"
      ]
     },
     "execution_count": 14,
     "metadata": {},
     "output_type": "execute_result"
    }
   ],
   "source": [
    "# Outil pour visualiser les topics\n",
    "pyLDAvis.enable_notebook()\n",
    "vis = pyLDAvis.gensim.prepare(lda_model, corpus, id2word)\n",
    "vis"
   ]
  }
 ],
 "metadata": {
  "kernelspec": {
   "display_name": "Python 3",
   "language": "python",
   "name": "python3"
  },
  "language_info": {
   "codemirror_mode": {
    "name": "ipython",
    "version": 3
   },
   "file_extension": ".py",
   "mimetype": "text/x-python",
   "name": "python",
   "nbconvert_exporter": "python",
   "pygments_lexer": "ipython3",
   "version": "3.8.5"
  }
 },
 "nbformat": 4,
 "nbformat_minor": 5
}
